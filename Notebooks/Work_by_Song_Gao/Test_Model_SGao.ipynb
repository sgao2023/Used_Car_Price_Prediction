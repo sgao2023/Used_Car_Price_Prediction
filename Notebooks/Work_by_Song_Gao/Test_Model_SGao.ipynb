{
 "cells": [
  {
   "cell_type": "code",
   "execution_count": 1,
   "metadata": {},
   "outputs": [],
   "source": [
    "## We first load in packages we will need\n",
    "import pandas as pd\n",
    "import numpy as np\n",
    "import matplotlib.pyplot as plt\n",
    "import plotly.express as px\n",
    "import seaborn as sns\n",
    "sns.set_style(\"whitegrid\")"
   ]
  },
  {
   "cell_type": "markdown",
   "metadata": {},
   "source": [
    "# Introduction\n",
    "\n",
    "The file output_Navdeep.csv is the cleaned data that we will use. In the Exploratory Data Analysis, we found that logarithm of price has a better distribution than real price in dollar. Therefore, throughout this file, we use the log_price as output and study its relationship with several features using the regression models."
   ]
  },
  {
   "cell_type": "markdown",
   "metadata": {},
   "source": [
    "# Read in the data file"
   ]
  },
  {
   "cell_type": "code",
   "execution_count": 2,
   "metadata": {},
   "outputs": [
    {
     "name": "stdout",
     "output_type": "stream",
     "text": [
      "<class 'pandas.core.frame.DataFrame'>\n",
      "RangeIndex: 4009 entries, 0 to 4008\n",
      "Data columns (total 29 columns):\n",
      " #   Column                     Non-Null Count  Dtype  \n",
      "---  ------                     --------------  -----  \n",
      " 0   brand                      4009 non-null   object \n",
      " 1   model                      4009 non-null   object \n",
      " 2   model_year                 4009 non-null   int64  \n",
      " 3   fuel_type                  4009 non-null   object \n",
      " 4   engine                     4009 non-null   object \n",
      " 5   transmission               4009 non-null   object \n",
      " 6   ext_col                    4009 non-null   object \n",
      " 7   int_col                    4009 non-null   object \n",
      " 8   accident                   4009 non-null   int64  \n",
      " 9   clean_title                4009 non-null   int64  \n",
      " 10  price                      4009 non-null   float64\n",
      " 11  years_used                 4009 non-null   int64  \n",
      " 12  capacity                   4009 non-null   float64\n",
      " 13  horsepower                 4009 non-null   float64\n",
      " 14  engine_type                1921 non-null   object \n",
      " 15  cylinder_count             4009 non-null   float64\n",
      " 16  fuel_injection             730 non-null    object \n",
      " 17  mileage_per_year           4009 non-null   float64\n",
      " 18  mileage_sqrt               4009 non-null   float64\n",
      " 19  mileage_with_age           4009 non-null   float64\n",
      " 20  mileage_per_year_with_age  4009 non-null   float64\n",
      " 21  mileage_brand              4009 non-null   float64\n",
      " 22  mileage                    4009 non-null   int64  \n",
      " 23  speed                      2278 non-null   float64\n",
      " 24  brand_category             4009 non-null   object \n",
      " 25  log_price                  4009 non-null   float64\n",
      " 26  power_to_weight_ratio      4009 non-null   float64\n",
      " 27  brand_frequency            4009 non-null   int64  \n",
      " 28  model_frequency            4009 non-null   int64  \n",
      "dtypes: float64(12), int64(7), object(10)\n",
      "memory usage: 908.4+ KB\n"
     ]
    }
   ],
   "source": [
    "df = pd.read_csv(\"../output_Navdeep.csv\")\n",
    "df.info()"
   ]
  },
  {
   "cell_type": "markdown",
   "metadata": {},
   "source": [
    "# Examine the features"
   ]
  },
  {
   "cell_type": "code",
   "execution_count": 3,
   "metadata": {},
   "outputs": [
    {
     "data": {
      "text/plain": [
       "['brand',\n",
       " 'model',\n",
       " 'model_year',\n",
       " 'fuel_type',\n",
       " 'engine',\n",
       " 'transmission',\n",
       " 'ext_col',\n",
       " 'int_col',\n",
       " 'accident',\n",
       " 'clean_title',\n",
       " 'price',\n",
       " 'years_used',\n",
       " 'capacity',\n",
       " 'horsepower',\n",
       " 'engine_type',\n",
       " 'cylinder_count',\n",
       " 'fuel_injection',\n",
       " 'mileage_per_year',\n",
       " 'mileage_sqrt',\n",
       " 'mileage_with_age',\n",
       " 'mileage_per_year_with_age',\n",
       " 'mileage_brand',\n",
       " 'mileage',\n",
       " 'speed',\n",
       " 'brand_category',\n",
       " 'log_price',\n",
       " 'power_to_weight_ratio',\n",
       " 'brand_frequency',\n",
       " 'model_frequency']"
      ]
     },
     "execution_count": 3,
     "metadata": {},
     "output_type": "execute_result"
    }
   ],
   "source": [
    "column_list = df.columns.tolist()\n",
    "column_list"
   ]
  },
  {
   "cell_type": "markdown",
   "metadata": {},
   "source": [
    "# Select features"
   ]
  },
  {
   "cell_type": "markdown",
   "metadata": {},
   "source": [
    "The features I will investigate are the following selected_features. "
   ]
  },
  {
   "cell_type": "code",
   "execution_count": 4,
   "metadata": {},
   "outputs": [],
   "source": [
    "selected_features = [\n",
    " 'fuel_type',\n",
    " 'transmission',\n",
    " 'ext_col',\n",
    " 'int_col',\n",
    " 'accident',\n",
    " 'clean_title',\n",
    " 'price',\n",
    " 'cylinder_count',\n",
    " 'years_used',\n",
    " 'capacity',\n",
    " 'horsepower',\n",
    " 'mileage',\n",
    " 'mileage_per_year',\n",
    " 'mileage_sqrt',\n",
    " 'brand_category',\n",
    " 'log_price',\n",
    "]"
   ]
  },
  {
   "cell_type": "code",
   "execution_count": 5,
   "metadata": {},
   "outputs": [],
   "source": [
    "df = df[selected_features]"
   ]
  },
  {
   "cell_type": "code",
   "execution_count": 6,
   "metadata": {},
   "outputs": [
    {
     "name": "stdout",
     "output_type": "stream",
     "text": [
      "<class 'pandas.core.frame.DataFrame'>\n",
      "RangeIndex: 4009 entries, 0 to 4008\n",
      "Data columns (total 16 columns):\n",
      " #   Column            Non-Null Count  Dtype  \n",
      "---  ------            --------------  -----  \n",
      " 0   fuel_type         4009 non-null   object \n",
      " 1   transmission      4009 non-null   object \n",
      " 2   ext_col           4009 non-null   object \n",
      " 3   int_col           4009 non-null   object \n",
      " 4   accident          4009 non-null   int64  \n",
      " 5   clean_title       4009 non-null   int64  \n",
      " 6   price             4009 non-null   float64\n",
      " 7   cylinder_count    4009 non-null   float64\n",
      " 8   years_used        4009 non-null   int64  \n",
      " 9   capacity          4009 non-null   float64\n",
      " 10  horsepower        4009 non-null   float64\n",
      " 11  mileage           4009 non-null   int64  \n",
      " 12  mileage_per_year  4009 non-null   float64\n",
      " 13  mileage_sqrt      4009 non-null   float64\n",
      " 14  brand_category    4009 non-null   object \n",
      " 15  log_price         4009 non-null   float64\n",
      "dtypes: float64(7), int64(4), object(5)\n",
      "memory usage: 501.3+ KB\n"
     ]
    }
   ],
   "source": [
    "df.info()"
   ]
  },
  {
   "cell_type": "markdown",
   "metadata": {},
   "source": [
    "# Filter electric cars\n",
    "\n",
    "Electric cars have fuel type \"Electric\". Since electric cars contribute very few amount to the dataset, and have many missing features, we will focus on the non-electric cars. "
   ]
  },
  {
   "cell_type": "code",
   "execution_count": 7,
   "metadata": {},
   "outputs": [
    {
     "data": {
      "text/plain": [
       "array(['Flex Fuel', 'Gasoline', 'Hybrid', 'Electric', 'Diesel'],\n",
       "      dtype=object)"
      ]
     },
     "execution_count": 7,
     "metadata": {},
     "output_type": "execute_result"
    }
   ],
   "source": [
    "df['fuel_type'].unique()"
   ]
  },
  {
   "cell_type": "markdown",
   "metadata": {},
   "source": [
    "Next, we split electric cars and normal cars into two dataset. We will only study the non-electric cars and call this dataset df_normal."
   ]
  },
  {
   "cell_type": "code",
   "execution_count": 8,
   "metadata": {},
   "outputs": [],
   "source": [
    "df_electric = df[df.fuel_type == 'Electric']\n",
    "df_normal = df[df.fuel_type != 'Electric']"
   ]
  },
  {
   "cell_type": "markdown",
   "metadata": {},
   "source": [
    "# Drop outliers for df_normal\n",
    "\n",
    "We consider the numeric values outside of the range 0.5%-99.5% as outliers. We drop the outliers for the column \"price\", \"mileage\", and \"years_used\". "
   ]
  },
  {
   "cell_type": "code",
   "execution_count": 9,
   "metadata": {},
   "outputs": [
    {
     "name": "stdout",
     "output_type": "stream",
     "text": [
      "3500.0 399940.5\n",
      "464.89000000000004 244162.0\n",
      "1.0 29.0\n"
     ]
    }
   ],
   "source": [
    "price_lower_limit, price_upper_limit = np.percentile(a=df_normal.price,q=[0.5,99.5])\n",
    "mileage_lower_limit, mileage_upper_limit = np.percentile(a=df_normal.mileage,q=[0.5,99.5])\n",
    "years_used_lower_limit, years_used_upper_limit = np.percentile(a=df_normal.years_used,q=[0.5,99.5])\n",
    "print(price_lower_limit,price_upper_limit)\n",
    "print(mileage_lower_limit,mileage_upper_limit)\n",
    "print(years_used_lower_limit,years_used_upper_limit)"
   ]
  },
  {
   "cell_type": "markdown",
   "metadata": {},
   "source": [
    "Let's look at the shape of the dataset after the dropping. "
   ]
  },
  {
   "cell_type": "code",
   "execution_count": 10,
   "metadata": {},
   "outputs": [
    {
     "data": {
      "text/plain": [
       "(3560, 16)"
      ]
     },
     "execution_count": 10,
     "metadata": {},
     "output_type": "execute_result"
    }
   ],
   "source": [
    "df_nm_flt = df_normal[(df_normal.price>price_lower_limit) & (df_normal.price<price_upper_limit)\\\n",
    "                  & (df_normal.mileage>mileage_lower_limit) & (df_normal.mileage<mileage_upper_limit)\\\n",
    "                  & (df_normal.years_used>years_used_lower_limit) & (df_normal.years_used<years_used_upper_limit)]\n",
    "\n",
    "df_nm_flt.shape"
   ]
  },
  {
   "cell_type": "markdown",
   "metadata": {},
   "source": [
    "# Investigate how transmission types affect price\n",
    "\n",
    "The picture below is a box plot of price by transmission. We can merge the class \"tiptronic\" and \"other\" into \"automatic\", since they have similar price distributions."
   ]
  },
  {
   "cell_type": "code",
   "execution_count": 11,
   "metadata": {},
   "outputs": [
    {
     "data": {
      "image/png": "[encoded data removed]",
      "text/plain": [
       "<Figure size 600x600 with 1 Axes>"
      ]
     },
     "metadata": {},
     "output_type": "display_data"
    }
   ],
   "source": [
    "plt.figure(figsize=(6, 6))\n",
    "sns.boxplot(x='transmission', y='price', data=df_nm_flt)\n",
    "plt.title('Box Plot of Price by Transmission')\n",
    "plt.xlabel('Transmission')\n",
    "plt.ylabel('Price')\n",
    "plt.show()"
   ]
  },
  {
   "cell_type": "code",
   "execution_count": 12,
   "metadata": {},
   "outputs": [
    {
     "data": {
      "text/plain": [
       "transmission\n",
       "Automatic    2614\n",
       "Tiptronic     492\n",
       "Manual        347\n",
       "Variator       99\n",
       "Other           8\n",
       "Name: count, dtype: int64"
      ]
     },
     "execution_count": 12,
     "metadata": {},
     "output_type": "execute_result"
    }
   ],
   "source": [
    "df_nm_flt['transmission'].value_counts()"
   ]
  },
  {
   "cell_type": "code",
   "execution_count": 13,
   "metadata": {},
   "outputs": [],
   "source": [
    "def convert_transmission(text):\n",
    "    if text == 'Tiptronic' or text == 'Other': \n",
    "        return 'Automatic'\n",
    "    else:\n",
    "        return text"
   ]
  },
  {
   "cell_type": "code",
   "execution_count": 14,
   "metadata": {},
   "outputs": [
    {
     "name": "stderr",
     "output_type": "stream",
     "text": [
      "C:\\Users\\Song Gao\\AppData\\Local\\Temp\\ipykernel_28804\\2397040189.py:1: SettingWithCopyWarning: \n",
      "A value is trying to be set on a copy of a slice from a DataFrame.\n",
      "Try using .loc[row_indexer,col_indexer] = value instead\n",
      "\n",
      "See the caveats in the documentation: https://pandas.pydata.org/pandas-docs/stable/user_guide/indexing.html#returning-a-view-versus-a-copy\n",
      "  df_nm_flt['transmission'] = df_nm_flt['transmission'].apply(convert_transmission)\n"
     ]
    }
   ],
   "source": [
    "df_nm_flt['transmission'] = df_nm_flt['transmission'].apply(convert_transmission)"
   ]
  },
  {
   "cell_type": "code",
   "execution_count": 15,
   "metadata": {},
   "outputs": [
    {
     "data": {
      "text/plain": [
       "transmission\n",
       "Automatic    3114\n",
       "Manual        347\n",
       "Variator       99\n",
       "Name: count, dtype: int64"
      ]
     },
     "execution_count": 15,
     "metadata": {},
     "output_type": "execute_result"
    }
   ],
   "source": [
    "df_nm_flt['transmission'].value_counts()"
   ]
  },
  {
   "cell_type": "markdown",
   "metadata": {},
   "source": [
    "# One-Hot encoder on categorical features"
   ]
  },
  {
   "cell_type": "markdown",
   "metadata": {},
   "source": [
    "The clean_title and accident columns are already in the form of 0-1 value. We apply one-hot encoder to other categorical columns."
   ]
  },
  {
   "cell_type": "code",
   "execution_count": 16,
   "metadata": {},
   "outputs": [],
   "source": [
    "category_features = [\"fuel_type\",'transmission','ext_col','int_col','brand_category']\n"
   ]
  },
  {
   "cell_type": "code",
   "execution_count": 17,
   "metadata": {},
   "outputs": [],
   "source": [
    "dummies = pd.get_dummies(df_nm_flt[category_features],drop_first=True)\n",
    "df_nm = pd.concat([df_nm_flt, dummies], axis=1).drop(category_features, axis=1)"
   ]
  },
  {
   "cell_type": "code",
   "execution_count": 18,
   "metadata": {},
   "outputs": [
    {
     "name": "stdout",
     "output_type": "stream",
     "text": [
      "31 ['accident', 'clean_title', 'price', 'cylinder_count', 'years_used', 'capacity', 'horsepower', 'mileage', 'mileage_per_year', 'mileage_sqrt', 'log_price', 'fuel_type_Flex Fuel', 'fuel_type_Gasoline', 'fuel_type_Hybrid', 'transmission_Manual', 'transmission_Variator', 'ext_col_blue', 'ext_col_gray', 'ext_col_green', 'ext_col_other', 'ext_col_red', 'ext_col_silver', 'ext_col_white', 'int_col_blue', 'int_col_gray', 'int_col_green', 'int_col_other', 'int_col_red', 'int_col_silver', 'int_col_white', 'brand_category_luxury']\n"
     ]
    }
   ],
   "source": [
    "column_list_nm = df_nm.columns.tolist()\n",
    "print(len(column_list_nm),column_list_nm)\n"
   ]
  },
  {
   "cell_type": "markdown",
   "metadata": {},
   "source": [
    "# Train test split and KFold split"
   ]
  },
  {
   "cell_type": "code",
   "execution_count": 19,
   "metadata": {},
   "outputs": [],
   "source": [
    "from sklearn.model_selection import train_test_split"
   ]
  },
  {
   "cell_type": "markdown",
   "metadata": {},
   "source": [
    "A google result shows that mileage and years_used are the main factors that affect car prices. So first I would like to study to what extent these two factors affect price. That's the reason I make the \"continuous_features1\". The column list \"continuous_features_all\" includes all numeric features, and \"category_features\" include all categorical features except for colors. \"Color_features\" are the one-hot-encoded color columns.  "
   ]
  },
  {
   "cell_type": "code",
   "execution_count": 20,
   "metadata": {},
   "outputs": [],
   "source": [
    "continuous_features1 = ['mileage','years_used']\n",
    "continuous_features_all = ['mileage','years_used','capacity','horsepower','cylinder_count', 'mileage_per_year',\n",
    " 'mileage_sqrt']\n",
    "category_features1 = ['accident', 'clean_title','fuel_type_Flex Fuel', 'fuel_type_Gasoline', 'fuel_type_Hybrid', \n",
    "                      'transmission_Manual', 'transmission_Variator', \n",
    "                       'brand_category_luxury']\n",
    "color_features = ['ext_col_blue', 'ext_col_gray', 'ext_col_green', 'ext_col_other', 'ext_col_red', 'ext_col_silver', 'ext_col_white', \n",
    "                      'int_col_blue', 'int_col_gray', 'int_col_green', 'int_col_other', 'int_col_red', 'int_col_silver', 'int_col_white',]"
   ]
  },
  {
   "cell_type": "markdown",
   "metadata": {},
   "source": [
    "**Verify there is no missing features** \n",
    "\n",
    "Number of columns of df_nm is 31, two of them are price and log_price. So, there are 29 input features in total. \n",
    "We check that the above lists include all features. "
   ]
  },
  {
   "cell_type": "code",
   "execution_count": 21,
   "metadata": {},
   "outputs": [
    {
     "data": {
      "text/plain": [
       "True"
      ]
     },
     "execution_count": 21,
     "metadata": {},
     "output_type": "execute_result"
    }
   ],
   "source": [
    "len(continuous_features_all)+len(category_features1)+len(color_features)==29"
   ]
  },
  {
   "cell_type": "markdown",
   "metadata": {},
   "source": [
    "Now, it is the point to define input X and output y. We do the train-test split with test_size = 20%. Further, we perform the 5-fold split on the training set for comparing our models. We will determine our best model by error scores and finally use that model to predict on our test set. "
   ]
  },
  {
   "cell_type": "code",
   "execution_count": 22,
   "metadata": {},
   "outputs": [],
   "source": [
    "X = df_nm.drop(['price','log_price'], axis=1)\n",
    "y = df_nm['log_price']"
   ]
  },
  {
   "cell_type": "code",
   "execution_count": 23,
   "metadata": {},
   "outputs": [
    {
     "data": {
      "text/plain": [
       "(3560, 29)"
      ]
     },
     "execution_count": 23,
     "metadata": {},
     "output_type": "execute_result"
    }
   ],
   "source": [
    "X.shape"
   ]
  },
  {
   "cell_type": "code",
   "execution_count": 24,
   "metadata": {},
   "outputs": [],
   "source": [
    "X_train, X_test, y_train, y_test = train_test_split(X, y,\n",
    "                                                       shuffle = True,\n",
    "                                                       random_state = 440,\n",
    "                                                       test_size = .2)"
   ]
  },
  {
   "cell_type": "code",
   "execution_count": 25,
   "metadata": {},
   "outputs": [
    {
     "name": "stdout",
     "output_type": "stream",
     "text": [
      "(2848, 29) (712, 29) (2848,) (712,)\n"
     ]
    }
   ],
   "source": [
    "print(X_train.shape,X_test.shape,y_train.shape,y_test.shape)"
   ]
  },
  {
   "cell_type": "code",
   "execution_count": 26,
   "metadata": {},
   "outputs": [],
   "source": [
    "from sklearn.model_selection import KFold"
   ]
  },
  {
   "cell_type": "code",
   "execution_count": 27,
   "metadata": {},
   "outputs": [],
   "source": [
    "kfold = KFold(n_splits = 5,\n",
    "              shuffle = True,\n",
    "              random_state = 582)"
   ]
  },
  {
   "cell_type": "code",
   "execution_count": 28,
   "metadata": {},
   "outputs": [
    {
     "data": {
      "text/plain": [
       "<generator object _BaseKFold.split at 0x000001C7851879A0>"
      ]
     },
     "execution_count": 28,
     "metadata": {},
     "output_type": "execute_result"
    }
   ],
   "source": [
    "kfold.split(X_train, y_train)"
   ]
  },
  {
   "cell_type": "code",
   "execution_count": 29,
   "metadata": {},
   "outputs": [
    {
     "name": "stdout",
     "output_type": "stream",
     "text": [
      "2278\n",
      "570\n",
      "2278\n",
      "570\n",
      "2278\n",
      "570\n",
      "2279\n",
      "569\n",
      "2279\n",
      "569\n"
     ]
    }
   ],
   "source": [
    "for train_index, test_index in kfold.split(X_train, y_train):\n",
    "    \n",
    "    print(len(train_index))\n",
    "    print(len(test_index))"
   ]
  },
  {
   "cell_type": "markdown",
   "metadata": {},
   "source": [
    "# Linear Regression\n"
   ]
  },
  {
   "cell_type": "markdown",
   "metadata": {},
   "source": [
    "Before I do this project, Google tells me the most important factors that affect used car price are mileage and years_used. So, in the multilinear regression model \"mlr1\", I only put mileage and years_used as input features and see what will happen. In the later models (mlr2,mlr3,mlr4,mlr5), I put in more and more numerical and categorical features (up to all features included in mlr5).  The color features turn out to have very slight affect on price, if we compare mlr3 and mlr4. The conclusion is: the mileage and years_used are not the only factors that determine car price. The other features also matter. "
   ]
  },
  {
   "cell_type": "code",
   "execution_count": 30,
   "metadata": {},
   "outputs": [],
   "source": [
    "from sklearn.linear_model import LinearRegression\n",
    "from sklearn.metrics import root_mean_squared_error\n",
    "from sklearn.metrics import mean_absolute_percentage_error\n",
    "from sklearn.linear_model import Ridge, Lasso\n",
    "from sklearn.preprocessing import StandardScaler"
   ]
  },
  {
   "cell_type": "code",
   "execution_count": 31,
   "metadata": {},
   "outputs": [],
   "source": [
    "mlr1 = LinearRegression()\n",
    "mlr2 = LinearRegression()\n",
    "mlr3 = LinearRegression()\n",
    "mlr4 = LinearRegression()\n",
    "mlr5 = LinearRegression()\n"
   ]
  },
  {
   "cell_type": "code",
   "execution_count": null,
   "metadata": {},
   "outputs": [],
   "source": [
    "# rmses_log will hold the cross validation root mean squared errors for log_price of each model. \n",
    "# Similarly, we define rmses_real_price and mape_real_price, where \"real price\" refers to exp(log_price),\n",
    "#  which is the real price in dollar.\n",
    "rmses_log = np.zeros((5, 5))\n",
    "rmses_real_price = np.zeros((5,5))\n",
    "mape_real_price = np.zeros((5,5))\n",
    "\n",
    "for i, (train_index, test_index) in enumerate(kfold.split(X_train, y_train)):\n",
    "    ## get the kfold training data\n",
    "    X_train_train = X_train.iloc[train_index,:]\n",
    "    y_train_train = y_train.iloc[train_index]\n",
    "    \n",
    "    ## get the holdout data\n",
    "    X_holdout = X_train.iloc[test_index,:]\n",
    "    y_holdout = y_train.iloc[test_index]\n",
    "\n",
    "    ## Fit all 5 models.\n",
    "    mlr1.fit(X_train_train[continuous_features1], y_train_train)\n",
    "    mlr2.fit(X_train_train[continuous_features_all], y_train_train)\n",
    "    mlr3.fit(X_train_train[continuous_features1+category_features1], y_train_train)\n",
    "    mlr4.fit(X_train_train[continuous_features1+category_features1+color_features], y_train_train)\n",
    "    mlr5.fit(X_train_train[continuous_features_all+category_features1+color_features], y_train_train)\n",
    "\n",
    "\n",
    "    ## Use all 5 models to generate predictions on the holdout set.\n",
    "    mlr1_preds = mlr1.predict(X_holdout[continuous_features1])\n",
    "    mlr2_preds = mlr2.predict(X_holdout[continuous_features_all])\n",
    "    mlr3_preds = mlr3.predict(X_holdout[continuous_features1+category_features1])\n",
    "    mlr4_preds = mlr4.predict(X_holdout[continuous_features1+category_features1+color_features])\n",
    "    mlr5_preds = mlr5.predict(X_holdout[continuous_features_all+category_features1+color_features])\n",
    "\n",
    "\n",
    "    ## Record the rmses and mapes.\n",
    "    rmses_log[0,i] = root_mean_squared_error(y_holdout, mlr1_preds)\n",
    "    rmses_real_price[0,i] = root_mean_squared_error(np.exp(y_holdout),np.exp(mlr1_preds))\n",
    "    mape_real_price[0,i] = mean_absolute_percentage_error(np.exp(y_holdout),np.exp(mlr1_preds))\n",
    "    rmses_log[1,i] = root_mean_squared_error(y_holdout, mlr2_preds)\n",
    "    rmses_real_price[1,i] = root_mean_squared_error(np.exp(y_holdout),np.exp(mlr2_preds))\n",
    "    mape_real_price[1,i] = mean_absolute_percentage_error(np.exp(y_holdout),np.exp(mlr2_preds))\n",
    "    rmses_log[2,i] = root_mean_squared_error(y_holdout, mlr3_preds)\n",
    "    rmses_real_price[2,i] = root_mean_squared_error(np.exp(y_holdout),np.exp(mlr3_preds))\n",
    "    mape_real_price[2,i] = mean_absolute_percentage_error(np.exp(y_holdout),np.exp(mlr3_preds))\n",
    "    rmses_log[3,i] = root_mean_squared_error(y_holdout, mlr4_preds)\n",
    "    rmses_real_price[3,i] = root_mean_squared_error(np.exp(y_holdout),np.exp(mlr4_preds))\n",
    "    mape_real_price[3,i] = mean_absolute_percentage_error(np.exp(y_holdout),np.exp(mlr4_preds))\n",
    "    rmses_log[4,i] = root_mean_squared_error(y_holdout, mlr5_preds)\n",
    "    rmses_real_price[4,i] = root_mean_squared_error(np.exp(y_holdout),np.exp(mlr5_preds))\n",
    "    mape_real_price[4,i] = mean_absolute_percentage_error(np.exp(y_holdout),np.exp(mlr5_preds))\n",
    "\n"
   ]
  },
  {
   "cell_type": "markdown",
   "metadata": {},
   "source": [
    "Look at the scores for 5 models and 5 folds."
   ]
  },
  {
   "cell_type": "code",
   "execution_count": 33,
   "metadata": {},
   "outputs": [
    {
     "data": {
      "text/plain": [
       "array([[0.50149147, 0.51142962, 0.52863992, 0.52022706, 0.52611467],\n",
       "       [0.38700408, 0.40534745, 0.40015277, 0.3897931 , 0.38643774],\n",
       "       [0.46886952, 0.4819476 , 0.49465107, 0.47426713, 0.49829191],\n",
       "       [0.46363583, 0.47514646, 0.49428427, 0.47486684, 0.49775636],\n",
       "       [0.35571687, 0.37849771, 0.37648794, 0.3556282 , 0.36538838]])"
      ]
     },
     "execution_count": 33,
     "metadata": {},
     "output_type": "execute_result"
    }
   ],
   "source": [
    "rmses_log"
   ]
  },
  {
   "cell_type": "code",
   "execution_count": 34,
   "metadata": {},
   "outputs": [
    {
     "data": {
      "text/plain": [
       "array([[25776.45025937, 37096.11078599, 31880.24814311, 25951.71120335,\n",
       "        34300.17696597],\n",
       "       [22956.38860428, 32774.04822523, 26905.76224103, 21264.05377734,\n",
       "        29593.62294501],\n",
       "       [24377.351657  , 35623.10441362, 30271.09518405, 24308.15787345,\n",
       "        32559.46772529],\n",
       "       [24275.04217128, 35215.32324148, 30317.99962036, 24480.94116672,\n",
       "        32357.68376335],\n",
       "       [20745.96986391, 30944.56072707, 25524.73681151, 19281.85581724,\n",
       "        27290.45886094]])"
      ]
     },
     "execution_count": 34,
     "metadata": {},
     "output_type": "execute_result"
    }
   ],
   "source": [
    "rmses_real_price"
   ]
  },
  {
   "cell_type": "code",
   "execution_count": 35,
   "metadata": {},
   "outputs": [
    {
     "data": {
      "text/plain": [
       "array([[0.41514672, 0.41228899, 0.42424202, 0.43463917, 0.42238056],\n",
       "       [0.29426058, 0.31073354, 0.30816457, 0.2990716 , 0.28405009],\n",
       "       [0.39059822, 0.38012642, 0.39801619, 0.39231392, 0.3978404 ],\n",
       "       [0.38515142, 0.37361576, 0.39694044, 0.39155619, 0.39431402],\n",
       "       [0.27288372, 0.28173108, 0.29270159, 0.27469581, 0.27049766]])"
      ]
     },
     "execution_count": 35,
     "metadata": {},
     "output_type": "execute_result"
    }
   ],
   "source": [
    "mape_real_price"
   ]
  },
  {
   "cell_type": "markdown",
   "metadata": {},
   "source": [
    "Next, we take the average of the error scores of the predictions on the 5 hold-out sets for each model."
   ]
  },
  {
   "cell_type": "code",
   "execution_count": 36,
   "metadata": {},
   "outputs": [],
   "source": [
    "rmses_log_avg = [0,0,0,0,0]\n",
    "rmses_real_price_avg = [0,0,0,0,0]\n",
    "mape_real_price_avg = [0,0,0,0,0]\n",
    "for i,ls in enumerate(rmses_log):\n",
    "    rmses_log_avg[i] = np.average(ls)\n",
    "for i,ls in enumerate(rmses_real_price):\n",
    "    rmses_real_price_avg[i] = np.average(ls)\n",
    "for i,ls in enumerate(mape_real_price):\n",
    "    mape_real_price_avg[i] = np.average(ls)"
   ]
  },
  {
   "cell_type": "markdown",
   "metadata": {},
   "source": [
    "Finally, the scores for the 5 linear regression models are:"
   ]
  },
  {
   "cell_type": "code",
   "execution_count": 37,
   "metadata": {},
   "outputs": [
    {
     "data": {
      "text/plain": [
       "[np.float64(0.517580549232625),\n",
       " np.float64(0.39374702967694314),\n",
       " np.float64(0.48360544800495375),\n",
       " np.float64(0.481137950564449),\n",
       " np.float64(0.3663438213748897)]"
      ]
     },
     "execution_count": 37,
     "metadata": {},
     "output_type": "execute_result"
    }
   ],
   "source": [
    "rmses_log_avg"
   ]
  },
  {
   "cell_type": "code",
   "execution_count": 38,
   "metadata": {},
   "outputs": [
    {
     "data": {
      "text/plain": [
       "[np.float64(31000.939471554942),\n",
       " np.float64(26698.775158577926),\n",
       " np.float64(29427.83537068311),\n",
       " np.float64(29329.39799263763),\n",
       " np.float64(24757.51641613597)]"
      ]
     },
     "execution_count": 38,
     "metadata": {},
     "output_type": "execute_result"
    }
   ],
   "source": [
    "rmses_real_price_avg"
   ]
  },
  {
   "cell_type": "code",
   "execution_count": 39,
   "metadata": {},
   "outputs": [
    {
     "data": {
      "text/plain": [
       "[np.float64(0.4217394930297945),\n",
       " np.float64(0.29925607663940895),\n",
       " np.float64(0.39177903045505863),\n",
       " np.float64(0.38831556584144283),\n",
       " np.float64(0.2785019711010854)]"
      ]
     },
     "execution_count": 39,
     "metadata": {},
     "output_type": "execute_result"
    }
   ],
   "source": [
    "mape_real_price_avg"
   ]
  },
  {
   "cell_type": "markdown",
   "metadata": {},
   "source": [
    "We conclude that, the more features we use, the higher accuracy the model have. The best RMSE (real price in dollar) for linear regression model is 24757, and the best MAPE is 27.85%."
   ]
  },
  {
   "cell_type": "markdown",
   "metadata": {},
   "source": [
    "# K nearest neighbors"
   ]
  },
  {
   "cell_type": "markdown",
   "metadata": {},
   "source": [
    "Since knn regression is scale-sensitive, we first apply StandardScaler to the numerical columns, i.e. mileage, years used, capacity, horse power, cylinder count, mileage per year, and square root of mileage. Then we set the parameter k in {2,4,6,8,10,12,14,16,18,20}, and see their performance. "
   ]
  },
  {
   "cell_type": "code",
   "execution_count": 40,
   "metadata": {},
   "outputs": [],
   "source": [
    "from sklearn.neighbors import KNeighborsRegressor\n",
    "from sklearn.preprocessing import StandardScaler\n",
    "from sklearn.metrics import root_mean_squared_error\n",
    "from sklearn.compose import ColumnTransformer\n",
    "from sklearn.pipeline import Pipeline"
   ]
  },
  {
   "cell_type": "code",
   "execution_count": 79,
   "metadata": {},
   "outputs": [],
   "source": [
    "rmses_log = np.zeros((10,5))\n",
    "rmses_real_price = np.zeros((10,5))\n",
    "mape_real_price = np.zeros((10,5))\n",
    "knn_pipeline = [0]*10\n",
    "# We set parameter k=2,4,6,8,10,12,14,16,18,20.\n",
    "for i, (train_index, test_index) in enumerate(kfold.split(X_train, y_train)):\n",
    "    for j in range(2,21,2):\n",
    "        ## get the kfold training data\n",
    "        X_train_train = X_train.iloc[train_index,:]\n",
    "        y_train_train = y_train.iloc[train_index]\n",
    "    \n",
    "        ## get the holdout data\n",
    "        X_holdout = X_train.iloc[test_index,:]\n",
    "        y_holdout = y_train.iloc[test_index]\n",
    "\n",
    "        knn_j = KNeighborsRegressor(j)\n",
    "        preprocessor = ColumnTransformer(\n",
    "            transformers=[('scaler', StandardScaler(), continuous_features_all)],\n",
    "            remainder='passthrough'\n",
    "            )\n",
    "        knn_pipeline[j//2-1] = Pipeline([\n",
    "            ('preprocessor', preprocessor),\n",
    "            ('knn_j', knn_j)\n",
    "            ])\n",
    "\n",
    "        \n",
    "\n",
    "        ## Fit knn models with k=2,4,6,8,...,20\n",
    "        knn_pipeline[j//2-1].fit(X_train_train[continuous_features_all], y_train_train)\n",
    "        \n",
    "\n",
    "        ## Use knn models with different parameters k to generate predictions on the holdout set\n",
    "        knn_j_preds = knn_pipeline[j//2-1].predict(X_holdout[continuous_features_all])\n",
    "        \n",
    "\n",
    "        ## Record the rmses\n",
    "        rmses_log[j//2-1,i] = root_mean_squared_error(y_holdout, knn_j_preds)\n",
    "        rmses_real_price[j//2-1,i] = root_mean_squared_error(np.exp(y_holdout),np.exp(knn_j_preds))\n",
    "        mape_real_price[j//2-1,i] = mean_absolute_percentage_error(np.exp(y_holdout),np.exp(knn_j_preds))\n",
    "\n",
    "        "
   ]
  },
  {
   "cell_type": "code",
   "execution_count": 80,
   "metadata": {},
   "outputs": [
    {
     "data": {
      "text/plain": [
       "array([[0.40713645, 0.3949785 , 0.39259278, 0.35741635, 0.37225453],\n",
       "       [0.36806769, 0.36385102, 0.37708023, 0.34355571, 0.35035916],\n",
       "       [0.35699164, 0.35822537, 0.37332216, 0.34072397, 0.35055639],\n",
       "       [0.35495835, 0.35786313, 0.36932844, 0.34134733, 0.34789772],\n",
       "       [0.35361925, 0.35639717, 0.36655621, 0.34009108, 0.3453214 ],\n",
       "       [0.35354756, 0.36189917, 0.36888063, 0.34190068, 0.34633862],\n",
       "       [0.35556516, 0.36314207, 0.36807705, 0.34476392, 0.34765868],\n",
       "       [0.35526526, 0.36450491, 0.36826275, 0.34840383, 0.34908006],\n",
       "       [0.35498638, 0.3665375 , 0.36918376, 0.34966215, 0.35039161],\n",
       "       [0.35291762, 0.36849766, 0.37083241, 0.35083739, 0.35317649]])"
      ]
     },
     "execution_count": 80,
     "metadata": {},
     "output_type": "execute_result"
    }
   ],
   "source": [
    "rmses_log"
   ]
  },
  {
   "cell_type": "code",
   "execution_count": 81,
   "metadata": {},
   "outputs": [
    {
     "data": {
      "text/plain": [
       "array([[18091.83414165, 25049.4902821 , 20698.48454828, 16872.09106603,\n",
       "        22848.53390516],\n",
       "       [15001.6553386 , 24280.05289257, 21999.28571166, 15278.45501986,\n",
       "        23340.90730894],\n",
       "       [15688.72344255, 24647.59376562, 22269.26803312, 15989.75124941,\n",
       "        24131.6911441 ],\n",
       "       [16770.72420569, 26183.13535904, 22322.98335224, 16304.34731393,\n",
       "        24607.62970173],\n",
       "       [16923.47355825, 27072.42283619, 23087.78713165, 16803.34672834,\n",
       "        24948.39345679],\n",
       "       [17476.75958726, 27968.54573974, 23851.7321442 , 17089.66363433,\n",
       "        25377.3703518 ],\n",
       "       [17973.07105031, 28666.86390787, 24077.14891718, 17133.13189395,\n",
       "        25867.81712832],\n",
       "       [18058.53981459, 29400.54736366, 24278.4750645 , 17737.43326137,\n",
       "        26145.70695764],\n",
       "       [18346.17207   , 29959.70136682, 24541.40163006, 17901.62868389,\n",
       "        26247.38066709],\n",
       "       [18351.39644303, 30330.79675144, 24925.29952686, 18360.47033683,\n",
       "        26684.90130818]])"
      ]
     },
     "execution_count": 81,
     "metadata": {},
     "output_type": "execute_result"
    }
   ],
   "source": [
    "rmses_real_price"
   ]
  },
  {
   "cell_type": "code",
   "execution_count": 82,
   "metadata": {},
   "outputs": [
    {
     "data": {
      "text/plain": [
       "array([[0.31886188, 0.30977122, 0.29923952, 0.28255328, 0.28750531],\n",
       "       [0.27837025, 0.28014127, 0.2800937 , 0.26839491, 0.26297254],\n",
       "       [0.26841436, 0.26975714, 0.27502942, 0.26130427, 0.26133247],\n",
       "       [0.26864521, 0.26808471, 0.27249949, 0.2580806 , 0.25903016],\n",
       "       [0.26766192, 0.26520342, 0.27118355, 0.25724703, 0.25633944],\n",
       "       [0.2665236 , 0.26698894, 0.27124505, 0.25482574, 0.25578407],\n",
       "       [0.26716106, 0.26358266, 0.27039813, 0.25658751, 0.25564931],\n",
       "       [0.26688184, 0.26129262, 0.27003751, 0.25807279, 0.25553001],\n",
       "       [0.26565405, 0.26108325, 0.27059467, 0.25782339, 0.25832311],\n",
       "       [0.26540903, 0.2622048 , 0.27066471, 0.2578118 , 0.25989239]])"
      ]
     },
     "execution_count": 82,
     "metadata": {},
     "output_type": "execute_result"
    }
   ],
   "source": [
    "mape_real_price"
   ]
  },
  {
   "cell_type": "code",
   "execution_count": 83,
   "metadata": {},
   "outputs": [],
   "source": [
    "rmses_log_avg = []\n",
    "rmses_real_price_avg = []\n",
    "mape_real_price_avg = []\n",
    "for i,ls in enumerate(rmses_log):\n",
    "    rmses_log_avg.append((2*(i+1),np.average(ls)))\n",
    "for i,ls in enumerate(rmses_real_price):\n",
    "    rmses_real_price_avg.append((2*(i+1),np.average(ls)))\n",
    "for i,ls in enumerate(mape_real_price):\n",
    "    mape_real_price_avg.append((2*(i+1),np.average(ls)))"
   ]
  },
  {
   "cell_type": "markdown",
   "metadata": {},
   "source": [
    " The list below shows the k values and their corresponding average rmse's. "
   ]
  },
  {
   "cell_type": "code",
   "execution_count": 84,
   "metadata": {},
   "outputs": [
    {
     "data": {
      "text/plain": [
       "[(2, np.float64(0.3848757246538231)),\n",
       " (4, np.float64(0.3605827617292061)),\n",
       " (6, np.float64(0.3559639050814784)),\n",
       " (8, np.float64(0.3542789959547026)),\n",
       " (10, np.float64(0.35239702143045254)),\n",
       " (12, np.float64(0.3545133297083174)),\n",
       " (14, np.float64(0.355841375246254)),\n",
       " (16, np.float64(0.3571033601632644)),\n",
       " (18, np.float64(0.35815227933017474)),\n",
       " (20, np.float64(0.35925231195639307))]"
      ]
     },
     "execution_count": 84,
     "metadata": {},
     "output_type": "execute_result"
    }
   ],
   "source": [
    "rmses_log_avg"
   ]
  },
  {
   "cell_type": "code",
   "execution_count": 85,
   "metadata": {},
   "outputs": [
    {
     "data": {
      "text/plain": [
       "[(2, np.float64(20712.086788643952)),\n",
       " (4, np.float64(19980.07125432559)),\n",
       " (6, np.float64(20545.405526960552)),\n",
       " (8, np.float64(21237.76398652534)),\n",
       " (10, np.float64(21767.08474224654)),\n",
       " (12, np.float64(22352.814291464674)),\n",
       " (14, np.float64(22743.606579523912)),\n",
       " (16, np.float64(23124.140492351544)),\n",
       " (18, np.float64(23399.256883572358)),\n",
       " (20, np.float64(23730.572873268662))]"
      ]
     },
     "execution_count": 85,
     "metadata": {},
     "output_type": "execute_result"
    }
   ],
   "source": [
    "rmses_real_price_avg"
   ]
  },
  {
   "cell_type": "code",
   "execution_count": 86,
   "metadata": {},
   "outputs": [
    {
     "data": {
      "text/plain": [
       "[(2, np.float64(0.2995862410547612)),\n",
       " (4, np.float64(0.27399453527613676)),\n",
       " (6, np.float64(0.26716753173698415)),\n",
       " (8, np.float64(0.26526803551899664)),\n",
       " (10, np.float64(0.263527072293693)),\n",
       " (12, np.float64(0.26307348104705147)),\n",
       " (14, np.float64(0.2626757348537413)),\n",
       " (16, np.float64(0.2623629523559394)),\n",
       " (18, np.float64(0.26269569332579723)),\n",
       " (20, np.float64(0.2631965439418767))]"
      ]
     },
     "execution_count": 86,
     "metadata": {},
     "output_type": "execute_result"
    }
   ],
   "source": [
    "mape_real_price_avg"
   ]
  },
  {
   "cell_type": "markdown",
   "metadata": {},
   "source": [
    "# Test Random Forest"
   ]
  },
  {
   "cell_type": "markdown",
   "metadata": {},
   "source": [
    "We apply the random forest model in the following blocks. We apply GridSearchCV to search for the best parameter of the model. Then calculate the rmse on the 5-fold cross validation. "
   ]
  },
  {
   "cell_type": "code",
   "execution_count": 61,
   "metadata": {},
   "outputs": [],
   "source": [
    "from sklearn.ensemble import RandomForestRegressor\n",
    "from sklearn.model_selection import train_test_split, GridSearchCV\n"
   ]
  },
  {
   "cell_type": "code",
   "execution_count": 62,
   "metadata": {},
   "outputs": [],
   "source": [
    "params = {'n_estimators': [100,150,200],\n",
    "          'max_features': ['sqrt','log2'],\n",
    "          'max_depth' : [4,5,6,7],\n",
    "          'min_samples_split' :[2,3,4,5,6],\n",
    "          'max_samples': [100,150,200,250]\n",
    "          }"
   ]
  },
  {
   "cell_type": "code",
   "execution_count": 63,
   "metadata": {},
   "outputs": [
    {
     "data": {
      "text/html": [
       "<style>#sk-container-id-4 {\n",
       "  /* Definition of color scheme common for light and dark mode */\n",
       "  --sklearn-color-text: black;\n",
       "  --sklearn-color-line: gray;\n",
       "  /* Definition of color scheme for unfitted estimators */\n",
       "  --sklearn-color-unfitted-level-0: #fff5e6;\n",
       "  --sklearn-color-unfitted-level-1: #f6e4d2;\n",
       "  --sklearn-color-unfitted-level-2: #ffe0b3;\n",
       "  --sklearn-color-unfitted-level-3: chocolate;\n",
       "  /* Definition of color scheme for fitted estimators */\n",
       "  --sklearn-color-fitted-level-0: #f0f8ff;\n",
       "  --sklearn-color-fitted-level-1: #d4ebff;\n",
       "  --sklearn-color-fitted-level-2: #b3dbfd;\n",
       "  --sklearn-color-fitted-level-3: cornflowerblue;\n",
       "\n",
       "  /* Specific color for light theme */\n",
       "  --sklearn-color-text-on-default-background: var(--sg-text-color, var(--theme-code-foreground, var(--jp-content-font-color1, black)));\n",
       "  --sklearn-color-background: var(--sg-background-color, var(--theme-background, var(--jp-layout-color0, white)));\n",
       "  --sklearn-color-border-box: var(--sg-text-color, var(--theme-code-foreground, var(--jp-content-font-color1, black)));\n",
       "  --sklearn-color-icon: #696969;\n",
       "\n",
       "  @media (prefers-color-scheme: dark) {\n",
       "    /* Redefinition of color scheme for dark theme */\n",
       "    --sklearn-color-text-on-default-background: var(--sg-text-color, var(--theme-code-foreground, var(--jp-content-font-color1, white)));\n",
       "    --sklearn-color-background: var(--sg-background-color, var(--theme-background, var(--jp-layout-color0, #111)));\n",
       "    --sklearn-color-border-box: var(--sg-text-color, var(--theme-code-foreground, var(--jp-content-font-color1, white)));\n",
       "    --sklearn-color-icon: #878787;\n",
       "  }\n",
       "}\n",
       "\n",
       "#sk-container-id-4 {\n",
       "  color: var(--sklearn-color-text);\n",
       "}\n",
       "\n",
       "#sk-container-id-4 pre {\n",
       "  padding: 0;\n",
       "}\n",
       "\n",
       "#sk-container-id-4 input.sk-hidden--visually {\n",
       "  border: 0;\n",
       "  clip: rect(1px 1px 1px 1px);\n",
       "  clip: rect(1px, 1px, 1px, 1px);\n",
       "  height: 1px;\n",
       "  margin: -1px;\n",
       "  overflow: hidden;\n",
       "  padding: 0;\n",
       "  position: absolute;\n",
       "  width: 1px;\n",
       "}\n",
       "\n",
       "#sk-container-id-4 div.sk-dashed-wrapped {\n",
       "  border: 1px dashed var(--sklearn-color-line);\n",
       "  margin: 0 0.4em 0.5em 0.4em;\n",
       "  box-sizing: border-box;\n",
       "  padding-bottom: 0.4em;\n",
       "  background-color: var(--sklearn-color-background);\n",
       "}\n",
       "\n",
       "#sk-container-id-4 div.sk-container {\n",
       "  /* jupyter's `normalize.less` sets `[hidden] { display: none; }`\n",
       "     but bootstrap.min.css set `[hidden] { display: none !important; }`\n",
       "     so we also need the `!important` here to be able to override the\n",
       "     default hidden behavior on the sphinx rendered scikit-learn.org.\n",
       "     See: https://github.com/scikit-learn/scikit-learn/issues/21755 */\n",
       "  display: inline-block !important;\n",
       "  position: relative;\n",
       "}\n",
       "\n",
       "#sk-container-id-4 div.sk-text-repr-fallback {\n",
       "  display: none;\n",
       "}\n",
       "\n",
       "div.sk-parallel-item,\n",
       "div.sk-serial,\n",
       "div.sk-item {\n",
       "  /* draw centered vertical line to link estimators */\n",
       "  background-image: linear-gradient(var(--sklearn-color-text-on-default-background), var(--sklearn-color-text-on-default-background));\n",
       "  background-size: 2px 100%;\n",
       "  background-repeat: no-repeat;\n",
       "  background-position: center center;\n",
       "}\n",
       "\n",
       "/* Parallel-specific style estimator block */\n",
       "\n",
       "#sk-container-id-4 div.sk-parallel-item::after {\n",
       "  content: \"\";\n",
       "  width: 100%;\n",
       "  border-bottom: 2px solid var(--sklearn-color-text-on-default-background);\n",
       "  flex-grow: 1;\n",
       "}\n",
       "\n",
       "#sk-container-id-4 div.sk-parallel {\n",
       "  display: flex;\n",
       "  align-items: stretch;\n",
       "  justify-content: center;\n",
       "  background-color: var(--sklearn-color-background);\n",
       "  position: relative;\n",
       "}\n",
       "\n",
       "#sk-container-id-4 div.sk-parallel-item {\n",
       "  display: flex;\n",
       "  flex-direction: column;\n",
       "}\n",
       "\n",
       "#sk-container-id-4 div.sk-parallel-item:first-child::after {\n",
       "  align-self: flex-end;\n",
       "  width: 50%;\n",
       "}\n",
       "\n",
       "#sk-container-id-4 div.sk-parallel-item:last-child::after {\n",
       "  align-self: flex-start;\n",
       "  width: 50%;\n",
       "}\n",
       "\n",
       "#sk-container-id-4 div.sk-parallel-item:only-child::after {\n",
       "  width: 0;\n",
       "}\n",
       "\n",
       "/* Serial-specific style estimator block */\n",
       "\n",
       "#sk-container-id-4 div.sk-serial {\n",
       "  display: flex;\n",
       "  flex-direction: column;\n",
       "  align-items: center;\n",
       "  background-color: var(--sklearn-color-background);\n",
       "  padding-right: 1em;\n",
       "  padding-left: 1em;\n",
       "}\n",
       "\n",
       "\n",
       "/* Toggleable style: style used for estimator/Pipeline/ColumnTransformer box that is\n",
       "clickable and can be expanded/collapsed.\n",
       "- Pipeline and ColumnTransformer use this feature and define the default style\n",
       "- Estimators will overwrite some part of the style using the `sk-estimator` class\n",
       "*/\n",
       "\n",
       "/* Pipeline and ColumnTransformer style (default) */\n",
       "\n",
       "#sk-container-id-4 div.sk-toggleable {\n",
       "  /* Default theme specific background. It is overwritten whether we have a\n",
       "  specific estimator or a Pipeline/ColumnTransformer */\n",
       "  background-color: var(--sklearn-color-background);\n",
       "}\n",
       "\n",
       "/* Toggleable label */\n",
       "#sk-container-id-4 label.sk-toggleable__label {\n",
       "  cursor: pointer;\n",
       "  display: block;\n",
       "  width: 100%;\n",
       "  margin-bottom: 0;\n",
       "  padding: 0.5em;\n",
       "  box-sizing: border-box;\n",
       "  text-align: center;\n",
       "}\n",
       "\n",
       "#sk-container-id-4 label.sk-toggleable__label-arrow:before {\n",
       "  /* Arrow on the left of the label */\n",
       "  content: \"▸\";\n",
       "  float: left;\n",
       "  margin-right: 0.25em;\n",
       "  color: var(--sklearn-color-icon);\n",
       "}\n",
       "\n",
       "#sk-container-id-4 label.sk-toggleable__label-arrow:hover:before {\n",
       "  color: var(--sklearn-color-text);\n",
       "}\n",
       "\n",
       "/* Toggleable content - dropdown */\n",
       "\n",
       "#sk-container-id-4 div.sk-toggleable__content {\n",
       "  max-height: 0;\n",
       "  max-width: 0;\n",
       "  overflow: hidden;\n",
       "  text-align: left;\n",
       "  /* unfitted */\n",
       "  background-color: var(--sklearn-color-unfitted-level-0);\n",
       "}\n",
       "\n",
       "#sk-container-id-4 div.sk-toggleable__content.fitted {\n",
       "  /* fitted */\n",
       "  background-color: var(--sklearn-color-fitted-level-0);\n",
       "}\n",
       "\n",
       "#sk-container-id-4 div.sk-toggleable__content pre {\n",
       "  margin: 0.2em;\n",
       "  border-radius: 0.25em;\n",
       "  color: var(--sklearn-color-text);\n",
       "  /* unfitted */\n",
       "  background-color: var(--sklearn-color-unfitted-level-0);\n",
       "}\n",
       "\n",
       "#sk-container-id-4 div.sk-toggleable__content.fitted pre {\n",
       "  /* unfitted */\n",
       "  background-color: var(--sklearn-color-fitted-level-0);\n",
       "}\n",
       "\n",
       "#sk-container-id-4 input.sk-toggleable__control:checked~div.sk-toggleable__content {\n",
       "  /* Expand drop-down */\n",
       "  max-height: 200px;\n",
       "  max-width: 100%;\n",
       "  overflow: auto;\n",
       "}\n",
       "\n",
       "#sk-container-id-4 input.sk-toggleable__control:checked~label.sk-toggleable__label-arrow:before {\n",
       "  content: \"▾\";\n",
       "}\n",
       "\n",
       "/* Pipeline/ColumnTransformer-specific style */\n",
       "\n",
       "#sk-container-id-4 div.sk-label input.sk-toggleable__control:checked~label.sk-toggleable__label {\n",
       "  color: var(--sklearn-color-text);\n",
       "  background-color: var(--sklearn-color-unfitted-level-2);\n",
       "}\n",
       "\n",
       "#sk-container-id-4 div.sk-label.fitted input.sk-toggleable__control:checked~label.sk-toggleable__label {\n",
       "  background-color: var(--sklearn-color-fitted-level-2);\n",
       "}\n",
       "\n",
       "/* Estimator-specific style */\n",
       "\n",
       "/* Colorize estimator box */\n",
       "#sk-container-id-4 div.sk-estimator input.sk-toggleable__control:checked~label.sk-toggleable__label {\n",
       "  /* unfitted */\n",
       "  background-color: var(--sklearn-color-unfitted-level-2);\n",
       "}\n",
       "\n",
       "#sk-container-id-4 div.sk-estimator.fitted input.sk-toggleable__control:checked~label.sk-toggleable__label {\n",
       "  /* fitted */\n",
       "  background-color: var(--sklearn-color-fitted-level-2);\n",
       "}\n",
       "\n",
       "#sk-container-id-4 div.sk-label label.sk-toggleable__label,\n",
       "#sk-container-id-4 div.sk-label label {\n",
       "  /* The background is the default theme color */\n",
       "  color: var(--sklearn-color-text-on-default-background);\n",
       "}\n",
       "\n",
       "/* On hover, darken the color of the background */\n",
       "#sk-container-id-4 div.sk-label:hover label.sk-toggleable__label {\n",
       "  color: var(--sklearn-color-text);\n",
       "  background-color: var(--sklearn-color-unfitted-level-2);\n",
       "}\n",
       "\n",
       "/* Label box, darken color on hover, fitted */\n",
       "#sk-container-id-4 div.sk-label.fitted:hover label.sk-toggleable__label.fitted {\n",
       "  color: var(--sklearn-color-text);\n",
       "  background-color: var(--sklearn-color-fitted-level-2);\n",
       "}\n",
       "\n",
       "/* Estimator label */\n",
       "\n",
       "#sk-container-id-4 div.sk-label label {\n",
       "  font-family: monospace;\n",
       "  font-weight: bold;\n",
       "  display: inline-block;\n",
       "  line-height: 1.2em;\n",
       "}\n",
       "\n",
       "#sk-container-id-4 div.sk-label-container {\n",
       "  text-align: center;\n",
       "}\n",
       "\n",
       "/* Estimator-specific */\n",
       "#sk-container-id-4 div.sk-estimator {\n",
       "  font-family: monospace;\n",
       "  border: 1px dotted var(--sklearn-color-border-box);\n",
       "  border-radius: 0.25em;\n",
       "  box-sizing: border-box;\n",
       "  margin-bottom: 0.5em;\n",
       "  /* unfitted */\n",
       "  background-color: var(--sklearn-color-unfitted-level-0);\n",
       "}\n",
       "\n",
       "#sk-container-id-4 div.sk-estimator.fitted {\n",
       "  /* fitted */\n",
       "  background-color: var(--sklearn-color-fitted-level-0);\n",
       "}\n",
       "\n",
       "/* on hover */\n",
       "#sk-container-id-4 div.sk-estimator:hover {\n",
       "  /* unfitted */\n",
       "  background-color: var(--sklearn-color-unfitted-level-2);\n",
       "}\n",
       "\n",
       "#sk-container-id-4 div.sk-estimator.fitted:hover {\n",
       "  /* fitted */\n",
       "  background-color: var(--sklearn-color-fitted-level-2);\n",
       "}\n",
       "\n",
       "/* Specification for estimator info (e.g. \"i\" and \"?\") */\n",
       "\n",
       "/* Common style for \"i\" and \"?\" */\n",
       "\n",
       ".sk-estimator-doc-link,\n",
       "a:link.sk-estimator-doc-link,\n",
       "a:visited.sk-estimator-doc-link {\n",
       "  float: right;\n",
       "  font-size: smaller;\n",
       "  line-height: 1em;\n",
       "  font-family: monospace;\n",
       "  background-color: var(--sklearn-color-background);\n",
       "  border-radius: 1em;\n",
       "  height: 1em;\n",
       "  width: 1em;\n",
       "  text-decoration: none !important;\n",
       "  margin-left: 1ex;\n",
       "  /* unfitted */\n",
       "  border: var(--sklearn-color-unfitted-level-1) 1pt solid;\n",
       "  color: var(--sklearn-color-unfitted-level-1);\n",
       "}\n",
       "\n",
       ".sk-estimator-doc-link.fitted,\n",
       "a:link.sk-estimator-doc-link.fitted,\n",
       "a:visited.sk-estimator-doc-link.fitted {\n",
       "  /* fitted */\n",
       "  border: var(--sklearn-color-fitted-level-1) 1pt solid;\n",
       "  color: var(--sklearn-color-fitted-level-1);\n",
       "}\n",
       "\n",
       "/* On hover */\n",
       "div.sk-estimator:hover .sk-estimator-doc-link:hover,\n",
       ".sk-estimator-doc-link:hover,\n",
       "div.sk-label-container:hover .sk-estimator-doc-link:hover,\n",
       ".sk-estimator-doc-link:hover {\n",
       "  /* unfitted */\n",
       "  background-color: var(--sklearn-color-unfitted-level-3);\n",
       "  color: var(--sklearn-color-background);\n",
       "  text-decoration: none;\n",
       "}\n",
       "\n",
       "div.sk-estimator.fitted:hover .sk-estimator-doc-link.fitted:hover,\n",
       ".sk-estimator-doc-link.fitted:hover,\n",
       "div.sk-label-container:hover .sk-estimator-doc-link.fitted:hover,\n",
       ".sk-estimator-doc-link.fitted:hover {\n",
       "  /* fitted */\n",
       "  background-color: var(--sklearn-color-fitted-level-3);\n",
       "  color: var(--sklearn-color-background);\n",
       "  text-decoration: none;\n",
       "}\n",
       "\n",
       "/* Span, style for the box shown on hovering the info icon */\n",
       ".sk-estimator-doc-link span {\n",
       "  display: none;\n",
       "  z-index: 9999;\n",
       "  position: relative;\n",
       "  font-weight: normal;\n",
       "  right: .2ex;\n",
       "  padding: .5ex;\n",
       "  margin: .5ex;\n",
       "  width: min-content;\n",
       "  min-width: 20ex;\n",
       "  max-width: 50ex;\n",
       "  color: var(--sklearn-color-text);\n",
       "  box-shadow: 2pt 2pt 4pt #999;\n",
       "  /* unfitted */\n",
       "  background: var(--sklearn-color-unfitted-level-0);\n",
       "  border: .5pt solid var(--sklearn-color-unfitted-level-3);\n",
       "}\n",
       "\n",
       ".sk-estimator-doc-link.fitted span {\n",
       "  /* fitted */\n",
       "  background: var(--sklearn-color-fitted-level-0);\n",
       "  border: var(--sklearn-color-fitted-level-3);\n",
       "}\n",
       "\n",
       ".sk-estimator-doc-link:hover span {\n",
       "  display: block;\n",
       "}\n",
       "\n",
       "/* \"?\"-specific style due to the `<a>` HTML tag */\n",
       "\n",
       "#sk-container-id-4 a.estimator_doc_link {\n",
       "  float: right;\n",
       "  font-size: 1rem;\n",
       "  line-height: 1em;\n",
       "  font-family: monospace;\n",
       "  background-color: var(--sklearn-color-background);\n",
       "  border-radius: 1rem;\n",
       "  height: 1rem;\n",
       "  width: 1rem;\n",
       "  text-decoration: none;\n",
       "  /* unfitted */\n",
       "  color: var(--sklearn-color-unfitted-level-1);\n",
       "  border: var(--sklearn-color-unfitted-level-1) 1pt solid;\n",
       "}\n",
       "\n",
       "#sk-container-id-4 a.estimator_doc_link.fitted {\n",
       "  /* fitted */\n",
       "  border: var(--sklearn-color-fitted-level-1) 1pt solid;\n",
       "  color: var(--sklearn-color-fitted-level-1);\n",
       "}\n",
       "\n",
       "/* On hover */\n",
       "#sk-container-id-4 a.estimator_doc_link:hover {\n",
       "  /* unfitted */\n",
       "  background-color: var(--sklearn-color-unfitted-level-3);\n",
       "  color: var(--sklearn-color-background);\n",
       "  text-decoration: none;\n",
       "}\n",
       "\n",
       "#sk-container-id-4 a.estimator_doc_link.fitted:hover {\n",
       "  /* fitted */\n",
       "  background-color: var(--sklearn-color-fitted-level-3);\n",
       "}\n",
       "</style><div id=\"sk-container-id-4\" class=\"sk-top-container\"><div class=\"sk-text-repr-fallback\"><pre>GridSearchCV(estimator=RandomForestRegressor(), n_jobs=-1,\n",
       "             param_grid={&#x27;max_depth&#x27;: [4, 5, 6, 7],\n",
       "                         &#x27;max_features&#x27;: [&#x27;sqrt&#x27;, &#x27;log2&#x27;],\n",
       "                         &#x27;max_samples&#x27;: [100, 150, 200, 250],\n",
       "                         &#x27;min_samples_split&#x27;: [2, 3, 4, 5, 6],\n",
       "                         &#x27;n_estimators&#x27;: [100, 150, 200]})</pre><b>In a Jupyter environment, please rerun this cell to show the HTML representation or trust the notebook. <br />On GitHub, the HTML representation is unable to render, please try loading this page with nbviewer.org.</b></div><div class=\"sk-container\" hidden><div class=\"sk-item sk-dashed-wrapped\"><div class=\"sk-label-container\"><div class=\"sk-label fitted sk-toggleable\"><input class=\"sk-toggleable__control sk-hidden--visually\" id=\"sk-estimator-id-8\" type=\"checkbox\" ><label for=\"sk-estimator-id-8\" class=\"sk-toggleable__label fitted sk-toggleable__label-arrow fitted\">&nbsp;&nbsp;GridSearchCV<a class=\"sk-estimator-doc-link fitted\" rel=\"noreferrer\" target=\"_blank\" href=\"https://scikit-learn.org/1.5/modules/generated/sklearn.model_selection.GridSearchCV.html\">?<span>Documentation for GridSearchCV</span></a><span class=\"sk-estimator-doc-link fitted\">i<span>Fitted</span></span></label><div class=\"sk-toggleable__content fitted\"><pre>GridSearchCV(estimator=RandomForestRegressor(), n_jobs=-1,\n",
       "             param_grid={&#x27;max_depth&#x27;: [4, 5, 6, 7],\n",
       "                         &#x27;max_features&#x27;: [&#x27;sqrt&#x27;, &#x27;log2&#x27;],\n",
       "                         &#x27;max_samples&#x27;: [100, 150, 200, 250],\n",
       "                         &#x27;min_samples_split&#x27;: [2, 3, 4, 5, 6],\n",
       "                         &#x27;n_estimators&#x27;: [100, 150, 200]})</pre></div> </div></div><div class=\"sk-parallel\"><div class=\"sk-parallel-item\"><div class=\"sk-item\"><div class=\"sk-label-container\"><div class=\"sk-label fitted sk-toggleable\"><input class=\"sk-toggleable__control sk-hidden--visually\" id=\"sk-estimator-id-9\" type=\"checkbox\" ><label for=\"sk-estimator-id-9\" class=\"sk-toggleable__label fitted sk-toggleable__label-arrow fitted\">best_estimator_: RandomForestRegressor</label><div class=\"sk-toggleable__content fitted\"><pre>RandomForestRegressor(max_depth=7, max_features=&#x27;sqrt&#x27;, max_samples=250)</pre></div> </div></div><div class=\"sk-serial\"><div class=\"sk-item\"><div class=\"sk-estimator fitted sk-toggleable\"><input class=\"sk-toggleable__control sk-hidden--visually\" id=\"sk-estimator-id-10\" type=\"checkbox\" ><label for=\"sk-estimator-id-10\" class=\"sk-toggleable__label fitted sk-toggleable__label-arrow fitted\">&nbsp;RandomForestRegressor<a class=\"sk-estimator-doc-link fitted\" rel=\"noreferrer\" target=\"_blank\" href=\"https://scikit-learn.org/1.5/modules/generated/sklearn.ensemble.RandomForestRegressor.html\">?<span>Documentation for RandomForestRegressor</span></a></label><div class=\"sk-toggleable__content fitted\"><pre>RandomForestRegressor(max_depth=7, max_features=&#x27;sqrt&#x27;, max_samples=250)</pre></div> </div></div></div></div></div></div></div></div></div>"
      ],
      "text/plain": [
       "GridSearchCV(estimator=RandomForestRegressor(), n_jobs=-1,\n",
       "             param_grid={'max_depth': [4, 5, 6, 7],\n",
       "                         'max_features': ['sqrt', 'log2'],\n",
       "                         'max_samples': [100, 150, 200, 250],\n",
       "                         'min_samples_split': [2, 3, 4, 5, 6],\n",
       "                         'n_estimators': [100, 150, 200]})"
      ]
     },
     "execution_count": 63,
     "metadata": {},
     "output_type": "execute_result"
    }
   ],
   "source": [
    "RFR_cv = GridSearchCV(RandomForestRegressor(), param_grid=params, n_jobs=-1)\n",
    "RFR_cv.fit(X_train,y_train)"
   ]
  },
  {
   "cell_type": "code",
   "execution_count": 64,
   "metadata": {},
   "outputs": [
    {
     "data": {
      "text/html": [
       "<style>#sk-container-id-5 {\n",
       "  /* Definition of color scheme common for light and dark mode */\n",
       "  --sklearn-color-text: black;\n",
       "  --sklearn-color-line: gray;\n",
       "  /* Definition of color scheme for unfitted estimators */\n",
       "  --sklearn-color-unfitted-level-0: #fff5e6;\n",
       "  --sklearn-color-unfitted-level-1: #f6e4d2;\n",
       "  --sklearn-color-unfitted-level-2: #ffe0b3;\n",
       "  --sklearn-color-unfitted-level-3: chocolate;\n",
       "  /* Definition of color scheme for fitted estimators */\n",
       "  --sklearn-color-fitted-level-0: #f0f8ff;\n",
       "  --sklearn-color-fitted-level-1: #d4ebff;\n",
       "  --sklearn-color-fitted-level-2: #b3dbfd;\n",
       "  --sklearn-color-fitted-level-3: cornflowerblue;\n",
       "\n",
       "  /* Specific color for light theme */\n",
       "  --sklearn-color-text-on-default-background: var(--sg-text-color, var(--theme-code-foreground, var(--jp-content-font-color1, black)));\n",
       "  --sklearn-color-background: var(--sg-background-color, var(--theme-background, var(--jp-layout-color0, white)));\n",
       "  --sklearn-color-border-box: var(--sg-text-color, var(--theme-code-foreground, var(--jp-content-font-color1, black)));\n",
       "  --sklearn-color-icon: #696969;\n",
       "\n",
       "  @media (prefers-color-scheme: dark) {\n",
       "    /* Redefinition of color scheme for dark theme */\n",
       "    --sklearn-color-text-on-default-background: var(--sg-text-color, var(--theme-code-foreground, var(--jp-content-font-color1, white)));\n",
       "    --sklearn-color-background: var(--sg-background-color, var(--theme-background, var(--jp-layout-color0, #111)));\n",
       "    --sklearn-color-border-box: var(--sg-text-color, var(--theme-code-foreground, var(--jp-content-font-color1, white)));\n",
       "    --sklearn-color-icon: #878787;\n",
       "  }\n",
       "}\n",
       "\n",
       "#sk-container-id-5 {\n",
       "  color: var(--sklearn-color-text);\n",
       "}\n",
       "\n",
       "#sk-container-id-5 pre {\n",
       "  padding: 0;\n",
       "}\n",
       "\n",
       "#sk-container-id-5 input.sk-hidden--visually {\n",
       "  border: 0;\n",
       "  clip: rect(1px 1px 1px 1px);\n",
       "  clip: rect(1px, 1px, 1px, 1px);\n",
       "  height: 1px;\n",
       "  margin: -1px;\n",
       "  overflow: hidden;\n",
       "  padding: 0;\n",
       "  position: absolute;\n",
       "  width: 1px;\n",
       "}\n",
       "\n",
       "#sk-container-id-5 div.sk-dashed-wrapped {\n",
       "  border: 1px dashed var(--sklearn-color-line);\n",
       "  margin: 0 0.4em 0.5em 0.4em;\n",
       "  box-sizing: border-box;\n",
       "  padding-bottom: 0.4em;\n",
       "  background-color: var(--sklearn-color-background);\n",
       "}\n",
       "\n",
       "#sk-container-id-5 div.sk-container {\n",
       "  /* jupyter's `normalize.less` sets `[hidden] { display: none; }`\n",
       "     but bootstrap.min.css set `[hidden] { display: none !important; }`\n",
       "     so we also need the `!important` here to be able to override the\n",
       "     default hidden behavior on the sphinx rendered scikit-learn.org.\n",
       "     See: https://github.com/scikit-learn/scikit-learn/issues/21755 */\n",
       "  display: inline-block !important;\n",
       "  position: relative;\n",
       "}\n",
       "\n",
       "#sk-container-id-5 div.sk-text-repr-fallback {\n",
       "  display: none;\n",
       "}\n",
       "\n",
       "div.sk-parallel-item,\n",
       "div.sk-serial,\n",
       "div.sk-item {\n",
       "  /* draw centered vertical line to link estimators */\n",
       "  background-image: linear-gradient(var(--sklearn-color-text-on-default-background), var(--sklearn-color-text-on-default-background));\n",
       "  background-size: 2px 100%;\n",
       "  background-repeat: no-repeat;\n",
       "  background-position: center center;\n",
       "}\n",
       "\n",
       "/* Parallel-specific style estimator block */\n",
       "\n",
       "#sk-container-id-5 div.sk-parallel-item::after {\n",
       "  content: \"\";\n",
       "  width: 100%;\n",
       "  border-bottom: 2px solid var(--sklearn-color-text-on-default-background);\n",
       "  flex-grow: 1;\n",
       "}\n",
       "\n",
       "#sk-container-id-5 div.sk-parallel {\n",
       "  display: flex;\n",
       "  align-items: stretch;\n",
       "  justify-content: center;\n",
       "  background-color: var(--sklearn-color-background);\n",
       "  position: relative;\n",
       "}\n",
       "\n",
       "#sk-container-id-5 div.sk-parallel-item {\n",
       "  display: flex;\n",
       "  flex-direction: column;\n",
       "}\n",
       "\n",
       "#sk-container-id-5 div.sk-parallel-item:first-child::after {\n",
       "  align-self: flex-end;\n",
       "  width: 50%;\n",
       "}\n",
       "\n",
       "#sk-container-id-5 div.sk-parallel-item:last-child::after {\n",
       "  align-self: flex-start;\n",
       "  width: 50%;\n",
       "}\n",
       "\n",
       "#sk-container-id-5 div.sk-parallel-item:only-child::after {\n",
       "  width: 0;\n",
       "}\n",
       "\n",
       "/* Serial-specific style estimator block */\n",
       "\n",
       "#sk-container-id-5 div.sk-serial {\n",
       "  display: flex;\n",
       "  flex-direction: column;\n",
       "  align-items: center;\n",
       "  background-color: var(--sklearn-color-background);\n",
       "  padding-right: 1em;\n",
       "  padding-left: 1em;\n",
       "}\n",
       "\n",
       "\n",
       "/* Toggleable style: style used for estimator/Pipeline/ColumnTransformer box that is\n",
       "clickable and can be expanded/collapsed.\n",
       "- Pipeline and ColumnTransformer use this feature and define the default style\n",
       "- Estimators will overwrite some part of the style using the `sk-estimator` class\n",
       "*/\n",
       "\n",
       "/* Pipeline and ColumnTransformer style (default) */\n",
       "\n",
       "#sk-container-id-5 div.sk-toggleable {\n",
       "  /* Default theme specific background. It is overwritten whether we have a\n",
       "  specific estimator or a Pipeline/ColumnTransformer */\n",
       "  background-color: var(--sklearn-color-background);\n",
       "}\n",
       "\n",
       "/* Toggleable label */\n",
       "#sk-container-id-5 label.sk-toggleable__label {\n",
       "  cursor: pointer;\n",
       "  display: block;\n",
       "  width: 100%;\n",
       "  margin-bottom: 0;\n",
       "  padding: 0.5em;\n",
       "  box-sizing: border-box;\n",
       "  text-align: center;\n",
       "}\n",
       "\n",
       "#sk-container-id-5 label.sk-toggleable__label-arrow:before {\n",
       "  /* Arrow on the left of the label */\n",
       "  content: \"▸\";\n",
       "  float: left;\n",
       "  margin-right: 0.25em;\n",
       "  color: var(--sklearn-color-icon);\n",
       "}\n",
       "\n",
       "#sk-container-id-5 label.sk-toggleable__label-arrow:hover:before {\n",
       "  color: var(--sklearn-color-text);\n",
       "}\n",
       "\n",
       "/* Toggleable content - dropdown */\n",
       "\n",
       "#sk-container-id-5 div.sk-toggleable__content {\n",
       "  max-height: 0;\n",
       "  max-width: 0;\n",
       "  overflow: hidden;\n",
       "  text-align: left;\n",
       "  /* unfitted */\n",
       "  background-color: var(--sklearn-color-unfitted-level-0);\n",
       "}\n",
       "\n",
       "#sk-container-id-5 div.sk-toggleable__content.fitted {\n",
       "  /* fitted */\n",
       "  background-color: var(--sklearn-color-fitted-level-0);\n",
       "}\n",
       "\n",
       "#sk-container-id-5 div.sk-toggleable__content pre {\n",
       "  margin: 0.2em;\n",
       "  border-radius: 0.25em;\n",
       "  color: var(--sklearn-color-text);\n",
       "  /* unfitted */\n",
       "  background-color: var(--sklearn-color-unfitted-level-0);\n",
       "}\n",
       "\n",
       "#sk-container-id-5 div.sk-toggleable__content.fitted pre {\n",
       "  /* unfitted */\n",
       "  background-color: var(--sklearn-color-fitted-level-0);\n",
       "}\n",
       "\n",
       "#sk-container-id-5 input.sk-toggleable__control:checked~div.sk-toggleable__content {\n",
       "  /* Expand drop-down */\n",
       "  max-height: 200px;\n",
       "  max-width: 100%;\n",
       "  overflow: auto;\n",
       "}\n",
       "\n",
       "#sk-container-id-5 input.sk-toggleable__control:checked~label.sk-toggleable__label-arrow:before {\n",
       "  content: \"▾\";\n",
       "}\n",
       "\n",
       "/* Pipeline/ColumnTransformer-specific style */\n",
       "\n",
       "#sk-container-id-5 div.sk-label input.sk-toggleable__control:checked~label.sk-toggleable__label {\n",
       "  color: var(--sklearn-color-text);\n",
       "  background-color: var(--sklearn-color-unfitted-level-2);\n",
       "}\n",
       "\n",
       "#sk-container-id-5 div.sk-label.fitted input.sk-toggleable__control:checked~label.sk-toggleable__label {\n",
       "  background-color: var(--sklearn-color-fitted-level-2);\n",
       "}\n",
       "\n",
       "/* Estimator-specific style */\n",
       "\n",
       "/* Colorize estimator box */\n",
       "#sk-container-id-5 div.sk-estimator input.sk-toggleable__control:checked~label.sk-toggleable__label {\n",
       "  /* unfitted */\n",
       "  background-color: var(--sklearn-color-unfitted-level-2);\n",
       "}\n",
       "\n",
       "#sk-container-id-5 div.sk-estimator.fitted input.sk-toggleable__control:checked~label.sk-toggleable__label {\n",
       "  /* fitted */\n",
       "  background-color: var(--sklearn-color-fitted-level-2);\n",
       "}\n",
       "\n",
       "#sk-container-id-5 div.sk-label label.sk-toggleable__label,\n",
       "#sk-container-id-5 div.sk-label label {\n",
       "  /* The background is the default theme color */\n",
       "  color: var(--sklearn-color-text-on-default-background);\n",
       "}\n",
       "\n",
       "/* On hover, darken the color of the background */\n",
       "#sk-container-id-5 div.sk-label:hover label.sk-toggleable__label {\n",
       "  color: var(--sklearn-color-text);\n",
       "  background-color: var(--sklearn-color-unfitted-level-2);\n",
       "}\n",
       "\n",
       "/* Label box, darken color on hover, fitted */\n",
       "#sk-container-id-5 div.sk-label.fitted:hover label.sk-toggleable__label.fitted {\n",
       "  color: var(--sklearn-color-text);\n",
       "  background-color: var(--sklearn-color-fitted-level-2);\n",
       "}\n",
       "\n",
       "/* Estimator label */\n",
       "\n",
       "#sk-container-id-5 div.sk-label label {\n",
       "  font-family: monospace;\n",
       "  font-weight: bold;\n",
       "  display: inline-block;\n",
       "  line-height: 1.2em;\n",
       "}\n",
       "\n",
       "#sk-container-id-5 div.sk-label-container {\n",
       "  text-align: center;\n",
       "}\n",
       "\n",
       "/* Estimator-specific */\n",
       "#sk-container-id-5 div.sk-estimator {\n",
       "  font-family: monospace;\n",
       "  border: 1px dotted var(--sklearn-color-border-box);\n",
       "  border-radius: 0.25em;\n",
       "  box-sizing: border-box;\n",
       "  margin-bottom: 0.5em;\n",
       "  /* unfitted */\n",
       "  background-color: var(--sklearn-color-unfitted-level-0);\n",
       "}\n",
       "\n",
       "#sk-container-id-5 div.sk-estimator.fitted {\n",
       "  /* fitted */\n",
       "  background-color: var(--sklearn-color-fitted-level-0);\n",
       "}\n",
       "\n",
       "/* on hover */\n",
       "#sk-container-id-5 div.sk-estimator:hover {\n",
       "  /* unfitted */\n",
       "  background-color: var(--sklearn-color-unfitted-level-2);\n",
       "}\n",
       "\n",
       "#sk-container-id-5 div.sk-estimator.fitted:hover {\n",
       "  /* fitted */\n",
       "  background-color: var(--sklearn-color-fitted-level-2);\n",
       "}\n",
       "\n",
       "/* Specification for estimator info (e.g. \"i\" and \"?\") */\n",
       "\n",
       "/* Common style for \"i\" and \"?\" */\n",
       "\n",
       ".sk-estimator-doc-link,\n",
       "a:link.sk-estimator-doc-link,\n",
       "a:visited.sk-estimator-doc-link {\n",
       "  float: right;\n",
       "  font-size: smaller;\n",
       "  line-height: 1em;\n",
       "  font-family: monospace;\n",
       "  background-color: var(--sklearn-color-background);\n",
       "  border-radius: 1em;\n",
       "  height: 1em;\n",
       "  width: 1em;\n",
       "  text-decoration: none !important;\n",
       "  margin-left: 1ex;\n",
       "  /* unfitted */\n",
       "  border: var(--sklearn-color-unfitted-level-1) 1pt solid;\n",
       "  color: var(--sklearn-color-unfitted-level-1);\n",
       "}\n",
       "\n",
       ".sk-estimator-doc-link.fitted,\n",
       "a:link.sk-estimator-doc-link.fitted,\n",
       "a:visited.sk-estimator-doc-link.fitted {\n",
       "  /* fitted */\n",
       "  border: var(--sklearn-color-fitted-level-1) 1pt solid;\n",
       "  color: var(--sklearn-color-fitted-level-1);\n",
       "}\n",
       "\n",
       "/* On hover */\n",
       "div.sk-estimator:hover .sk-estimator-doc-link:hover,\n",
       ".sk-estimator-doc-link:hover,\n",
       "div.sk-label-container:hover .sk-estimator-doc-link:hover,\n",
       ".sk-estimator-doc-link:hover {\n",
       "  /* unfitted */\n",
       "  background-color: var(--sklearn-color-unfitted-level-3);\n",
       "  color: var(--sklearn-color-background);\n",
       "  text-decoration: none;\n",
       "}\n",
       "\n",
       "div.sk-estimator.fitted:hover .sk-estimator-doc-link.fitted:hover,\n",
       ".sk-estimator-doc-link.fitted:hover,\n",
       "div.sk-label-container:hover .sk-estimator-doc-link.fitted:hover,\n",
       ".sk-estimator-doc-link.fitted:hover {\n",
       "  /* fitted */\n",
       "  background-color: var(--sklearn-color-fitted-level-3);\n",
       "  color: var(--sklearn-color-background);\n",
       "  text-decoration: none;\n",
       "}\n",
       "\n",
       "/* Span, style for the box shown on hovering the info icon */\n",
       ".sk-estimator-doc-link span {\n",
       "  display: none;\n",
       "  z-index: 9999;\n",
       "  position: relative;\n",
       "  font-weight: normal;\n",
       "  right: .2ex;\n",
       "  padding: .5ex;\n",
       "  margin: .5ex;\n",
       "  width: min-content;\n",
       "  min-width: 20ex;\n",
       "  max-width: 50ex;\n",
       "  color: var(--sklearn-color-text);\n",
       "  box-shadow: 2pt 2pt 4pt #999;\n",
       "  /* unfitted */\n",
       "  background: var(--sklearn-color-unfitted-level-0);\n",
       "  border: .5pt solid var(--sklearn-color-unfitted-level-3);\n",
       "}\n",
       "\n",
       ".sk-estimator-doc-link.fitted span {\n",
       "  /* fitted */\n",
       "  background: var(--sklearn-color-fitted-level-0);\n",
       "  border: var(--sklearn-color-fitted-level-3);\n",
       "}\n",
       "\n",
       ".sk-estimator-doc-link:hover span {\n",
       "  display: block;\n",
       "}\n",
       "\n",
       "/* \"?\"-specific style due to the `<a>` HTML tag */\n",
       "\n",
       "#sk-container-id-5 a.estimator_doc_link {\n",
       "  float: right;\n",
       "  font-size: 1rem;\n",
       "  line-height: 1em;\n",
       "  font-family: monospace;\n",
       "  background-color: var(--sklearn-color-background);\n",
       "  border-radius: 1rem;\n",
       "  height: 1rem;\n",
       "  width: 1rem;\n",
       "  text-decoration: none;\n",
       "  /* unfitted */\n",
       "  color: var(--sklearn-color-unfitted-level-1);\n",
       "  border: var(--sklearn-color-unfitted-level-1) 1pt solid;\n",
       "}\n",
       "\n",
       "#sk-container-id-5 a.estimator_doc_link.fitted {\n",
       "  /* fitted */\n",
       "  border: var(--sklearn-color-fitted-level-1) 1pt solid;\n",
       "  color: var(--sklearn-color-fitted-level-1);\n",
       "}\n",
       "\n",
       "/* On hover */\n",
       "#sk-container-id-5 a.estimator_doc_link:hover {\n",
       "  /* unfitted */\n",
       "  background-color: var(--sklearn-color-unfitted-level-3);\n",
       "  color: var(--sklearn-color-background);\n",
       "  text-decoration: none;\n",
       "}\n",
       "\n",
       "#sk-container-id-5 a.estimator_doc_link.fitted:hover {\n",
       "  /* fitted */\n",
       "  background-color: var(--sklearn-color-fitted-level-3);\n",
       "}\n",
       "</style><div id=\"sk-container-id-5\" class=\"sk-top-container\"><div class=\"sk-text-repr-fallback\"><pre>RandomForestRegressor(max_depth=7, max_features=&#x27;sqrt&#x27;, max_samples=250)</pre><b>In a Jupyter environment, please rerun this cell to show the HTML representation or trust the notebook. <br />On GitHub, the HTML representation is unable to render, please try loading this page with nbviewer.org.</b></div><div class=\"sk-container\" hidden><div class=\"sk-item\"><div class=\"sk-estimator fitted sk-toggleable\"><input class=\"sk-toggleable__control sk-hidden--visually\" id=\"sk-estimator-id-11\" type=\"checkbox\" checked><label for=\"sk-estimator-id-11\" class=\"sk-toggleable__label fitted sk-toggleable__label-arrow fitted\">&nbsp;&nbsp;RandomForestRegressor<a class=\"sk-estimator-doc-link fitted\" rel=\"noreferrer\" target=\"_blank\" href=\"https://scikit-learn.org/1.5/modules/generated/sklearn.ensemble.RandomForestRegressor.html\">?<span>Documentation for RandomForestRegressor</span></a><span class=\"sk-estimator-doc-link fitted\">i<span>Fitted</span></span></label><div class=\"sk-toggleable__content fitted\"><pre>RandomForestRegressor(max_depth=7, max_features=&#x27;sqrt&#x27;, max_samples=250)</pre></div> </div></div></div></div>"
      ],
      "text/plain": [
       "RandomForestRegressor(max_depth=7, max_features='sqrt', max_samples=250)"
      ]
     },
     "execution_count": 64,
     "metadata": {},
     "output_type": "execute_result"
    }
   ],
   "source": [
    "best_RFR = RFR_cv.best_estimator_\n",
    "best_RFR"
   ]
  },
  {
   "cell_type": "code",
   "execution_count": 65,
   "metadata": {},
   "outputs": [
    {
     "data": {
      "text/plain": [
       "{'max_depth': 7,\n",
       " 'max_features': 'sqrt',\n",
       " 'max_samples': 250,\n",
       " 'min_samples_split': 2,\n",
       " 'n_estimators': 100}"
      ]
     },
     "execution_count": 65,
     "metadata": {},
     "output_type": "execute_result"
    }
   ],
   "source": [
    "best_params = RFR_cv.best_params_\n",
    "best_params"
   ]
  },
  {
   "cell_type": "code",
   "execution_count": 66,
   "metadata": {},
   "outputs": [],
   "source": [
    "# rmses will hold the cross validation root mean squared errors of the best_RFR model. \n",
    "rmses_log = np.zeros((1, 5))\n",
    "rmses_real_price = np.zeros((1, 5))\n",
    "mape_real_price = np.zeros((1, 5))\n",
    "\n",
    "for i, (train_index, test_index) in enumerate(kfold.split(X_train, y_train)):\n",
    "    ## get the kfold training data\n",
    "    X_train_train = X_train.iloc[train_index,:]\n",
    "    y_train_train = y_train.iloc[train_index]\n",
    "    \n",
    "    ## get the holdout data\n",
    "    X_holdout = X_train.iloc[test_index,:]\n",
    "    y_holdout = y_train.iloc[test_index]\n",
    "\n",
    "    ## Fit both models\n",
    "    best_RFR.fit(X_train_train, y_train_train)\n",
    "    \n",
    "\n",
    "\n",
    "    ## Use both models to generate predictions on the holdout set\n",
    "    best_RFR_pred = best_RFR.predict(X_holdout)\n",
    "    \n",
    "\n",
    "    ## Record the rmses\n",
    "    \n",
    "    rmses_log[0,i] = root_mean_squared_error(y_holdout, best_RFR_pred)\n",
    "\n",
    "    rmses_real_price[0,i] = root_mean_squared_error(np.exp(y_holdout), np.exp(best_RFR_pred))\n",
    "\n",
    "    mape_real_price[0,i] = mean_absolute_percentage_error(np.exp(y_holdout), np.exp(best_RFR_pred))\n",
    "\n",
    "    "
   ]
  },
  {
   "cell_type": "code",
   "execution_count": 67,
   "metadata": {},
   "outputs": [
    {
     "data": {
      "text/plain": [
       "np.float64(0.374039200973922)"
      ]
     },
     "execution_count": 67,
     "metadata": {},
     "output_type": "execute_result"
    }
   ],
   "source": [
    "np.average(rmses_log)"
   ]
  },
  {
   "cell_type": "code",
   "execution_count": 68,
   "metadata": {},
   "outputs": [
    {
     "data": {
      "text/plain": [
       "np.float64(24605.873559042164)"
      ]
     },
     "execution_count": 68,
     "metadata": {},
     "output_type": "execute_result"
    }
   ],
   "source": [
    "np.average(rmses_real_price)"
   ]
  },
  {
   "cell_type": "code",
   "execution_count": 69,
   "metadata": {},
   "outputs": [
    {
     "data": {
      "text/plain": [
       "np.float64(0.2900931598435574)"
      ]
     },
     "execution_count": 69,
     "metadata": {},
     "output_type": "execute_result"
    }
   ],
   "source": [
    "np.average(mape_real_price)"
   ]
  },
  {
   "cell_type": "markdown",
   "metadata": {},
   "source": [
    "# Conclusion"
   ]
  },
  {
   "cell_type": "markdown",
   "metadata": {},
   "source": [
    "The above model testings show that K nearest neighbor with k=14 has the best MAPE score, which is 26.27%. We will take K nearest neighbor regressor (k=14) as our final model. "
   ]
  },
  {
   "cell_type": "markdown",
   "metadata": {},
   "source": [
    "# Predict on Test Set"
   ]
  },
  {
   "cell_type": "code",
   "execution_count": 93,
   "metadata": {},
   "outputs": [],
   "source": [
    "knn_pipeline_14 = knn_pipeline[14//2-1]\n",
    "\n",
    "knn_14_preds = knn_pipeline_14.predict(X_test[continuous_features_all])\n",
    "        \n",
    "\n",
    "## Record the scores.\n",
    "rmse_log_final = root_mean_squared_error(y_test, knn_14_preds)\n",
    "rmse_real_price_final = root_mean_squared_error(np.exp(y_test),np.exp(knn_14_preds))\n",
    "mape_real_price_final = mean_absolute_percentage_error(np.exp(y_test),np.exp(knn_14_preds))"
   ]
  },
  {
   "cell_type": "code",
   "execution_count": 94,
   "metadata": {},
   "outputs": [
    {
     "name": "stdout",
     "output_type": "stream",
     "text": [
      "For real price in dollar, our final RMSE is 27213.930038964347 and final MAPE is 0.254938916740001\n"
     ]
    }
   ],
   "source": [
    "print('For real price in dollar, our final RMSE is', rmse_real_price_final, 'and final MAPE is', mape_real_price_final)"
   ]
  }
 ],
 "metadata": {
  "kernelspec": {
   "display_name": "erdos_fall_2024",
   "language": "python",
   "name": "python3"
  },
  "language_info": {
   "codemirror_mode": {
    "name": "ipython",
    "version": 3
   },
   "file_extension": ".py",
   "mimetype": "text/x-python",
   "name": "python",
   "nbconvert_exporter": "python",
   "pygments_lexer": "ipython3",
   "version": "3.12.5"
  }
 },
 "nbformat": 4,
 "nbformat_minor": 2
}
