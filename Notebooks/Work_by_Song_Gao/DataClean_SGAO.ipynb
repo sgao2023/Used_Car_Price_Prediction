{
 "cells": [
  {
   "cell_type": "code",
   "execution_count": 2,
   "metadata": {},
   "outputs": [],
   "source": [
    "## We first load in packages we will need\n",
    "import pandas as pd\n",
    "import numpy as np\n",
    "import matplotlib.pyplot as plt\n",
    "import plotly.express as px\n",
    "import seaborn as sns\n",
    "sns.set_style(\"whitegrid\")"
   ]
  },
  {
   "cell_type": "markdown",
   "metadata": {},
   "source": [
    "## Read csv, check basic info and duplicates"
   ]
  },
  {
   "cell_type": "code",
   "execution_count": 3,
   "metadata": {},
   "outputs": [
    {
     "name": "stdout",
     "output_type": "stream",
     "text": [
      "<class 'pandas.core.frame.DataFrame'>\n",
      "RangeIndex: 4009 entries, 0 to 4008\n",
      "Data columns (total 12 columns):\n",
      " #   Column        Non-Null Count  Dtype \n",
      "---  ------        --------------  ----- \n",
      " 0   brand         4009 non-null   object\n",
      " 1   model         4009 non-null   object\n",
      " 2   model_year    4009 non-null   int64 \n",
      " 3   milage        4009 non-null   object\n",
      " 4   fuel_type     3839 non-null   object\n",
      " 5   engine        4009 non-null   object\n",
      " 6   transmission  4009 non-null   object\n",
      " 7   ext_col       4009 non-null   object\n",
      " 8   int_col       4009 non-null   object\n",
      " 9   accident      3896 non-null   object\n",
      " 10  clean_title   3413 non-null   object\n",
      " 11  price         4009 non-null   object\n",
      "dtypes: int64(1), object(11)\n",
      "memory usage: 376.0+ KB\n"
     ]
    }
   ],
   "source": [
    "df = pd.read_csv(\"../../Data/used_cars.csv\")\n",
    "df.info()"
   ]
  },
  {
   "cell_type": "code",
   "execution_count": 113,
   "metadata": {},
   "outputs": [
    {
     "data": {
      "text/plain": [
       "np.int64(0)"
      ]
     },
     "execution_count": 113,
     "metadata": {},
     "output_type": "execute_result"
    }
   ],
   "source": [
    "df.duplicated().sum()\n"
   ]
  },
  {
   "cell_type": "code",
   "execution_count": 114,
   "metadata": {},
   "outputs": [
    {
     "data": {
      "text/plain": [
       "brand           object\n",
       "model           object\n",
       "model_year       int64\n",
       "milage          object\n",
       "fuel_type       object\n",
       "engine          object\n",
       "transmission    object\n",
       "ext_col         object\n",
       "int_col         object\n",
       "accident        object\n",
       "clean_title     object\n",
       "price           object\n",
       "dtype: object"
      ]
     },
     "execution_count": 114,
     "metadata": {},
     "output_type": "execute_result"
    }
   ],
   "source": [
    "df.dtypes"
   ]
  },
  {
   "cell_type": "code",
   "execution_count": 116,
   "metadata": {},
   "outputs": [
    {
     "data": {
      "text/plain": [
       "brand             57\n",
       "model           1898\n",
       "model_year        34\n",
       "milage          2818\n",
       "fuel_type          7\n",
       "engine          1146\n",
       "transmission      62\n",
       "ext_col          319\n",
       "int_col          156\n",
       "accident           2\n",
       "clean_title        1\n",
       "price           1569\n",
       "dtype: int64"
      ]
     },
     "execution_count": 116,
     "metadata": {},
     "output_type": "execute_result"
    }
   ],
   "source": [
    "df.nunique()\n"
   ]
  },
  {
   "cell_type": "markdown",
   "metadata": {},
   "source": [
    "## Investigate \"fuel_type\" column"
   ]
  },
  {
   "cell_type": "code",
   "execution_count": 117,
   "metadata": {},
   "outputs": [
    {
     "data": {
      "text/plain": [
       "array(['E85 Flex Fuel', 'Gasoline', 'Hybrid', nan, 'Diesel',\n",
       "       'Plug-In Hybrid', '–', 'not supported'], dtype=object)"
      ]
     },
     "execution_count": 117,
     "metadata": {},
     "output_type": "execute_result"
    }
   ],
   "source": [
    "df['fuel_type'].unique()"
   ]
  },
  {
   "cell_type": "code",
   "execution_count": 118,
   "metadata": {},
   "outputs": [
    {
     "data": {
      "text/plain": [
       "(217, 12)"
      ]
     },
     "execution_count": 118,
     "metadata": {},
     "output_type": "execute_result"
    }
   ],
   "source": [
    "fuel_others = df.loc[(df['fuel_type']=='–')|(df['fuel_type']=='not supported')|pd.isna(df['fuel_type'])]\n",
    "fuel_others.shape"
   ]
  },
  {
   "cell_type": "code",
   "execution_count": 119,
   "metadata": {},
   "outputs": [
    {
     "data": {
      "text/plain": [
       "(2, 12)"
      ]
     },
     "execution_count": 119,
     "metadata": {},
     "output_type": "execute_result"
    }
   ],
   "source": [
    "fuel_not_supp = df.loc[df['fuel_type']=='not supported']\n",
    "fuel_not_supp.shape"
   ]
  },
  {
   "cell_type": "markdown",
   "metadata": {},
   "source": [
    "#### Show that {Fuel_type == en dash ('–') } if and only if {engine == en dash ('–')}"
   ]
  },
  {
   "cell_type": "code",
   "execution_count": 120,
   "metadata": {},
   "outputs": [
    {
     "data": {
      "text/plain": [
       "(45, 12)"
      ]
     },
     "execution_count": 120,
     "metadata": {},
     "output_type": "execute_result"
    }
   ],
   "source": [
    "fuel_dash = df.loc[df['fuel_type']=='–']\n",
    "\n",
    "fuel_dash.shape"
   ]
  },
  {
   "cell_type": "code",
   "execution_count": 121,
   "metadata": {},
   "outputs": [
    {
     "data": {
      "text/plain": [
       "(45, 12)"
      ]
     },
     "execution_count": 121,
     "metadata": {},
     "output_type": "execute_result"
    }
   ],
   "source": [
    "engine_dash = df.loc[df['engine']=='–']\n",
    "engine_dash.shape"
   ]
  },
  {
   "cell_type": "code",
   "execution_count": 122,
   "metadata": {},
   "outputs": [
    {
     "data": {
      "text/plain": [
       "(45, 12)"
      ]
     },
     "execution_count": 122,
     "metadata": {},
     "output_type": "execute_result"
    }
   ],
   "source": [
    "fuel_engine_both_dash = df.loc[(df['engine']=='–')&(df['fuel_type']=='–')]\n",
    "fuel_engine_both_dash.shape"
   ]
  },
  {
   "cell_type": "code",
   "execution_count": 123,
   "metadata": {},
   "outputs": [
    {
     "data": {
      "text/html": [
       "<div>\n",
       "<style scoped>\n",
       "    .dataframe tbody tr th:only-of-type {\n",
       "        vertical-align: middle;\n",
       "    }\n",
       "\n",
       "    .dataframe tbody tr th {\n",
       "        vertical-align: top;\n",
       "    }\n",
       "\n",
       "    .dataframe thead th {\n",
       "        text-align: right;\n",
       "    }\n",
       "</style>\n",
       "<table border=\"1\" class=\"dataframe\">\n",
       "  <thead>\n",
       "    <tr style=\"text-align: right;\">\n",
       "      <th></th>\n",
       "      <th>brand</th>\n",
       "      <th>model</th>\n",
       "      <th>model_year</th>\n",
       "      <th>milage</th>\n",
       "      <th>fuel_type</th>\n",
       "      <th>engine</th>\n",
       "      <th>transmission</th>\n",
       "      <th>ext_col</th>\n",
       "      <th>int_col</th>\n",
       "      <th>accident</th>\n",
       "      <th>clean_title</th>\n",
       "      <th>price</th>\n",
       "    </tr>\n",
       "  </thead>\n",
       "  <tbody>\n",
       "    <tr>\n",
       "      <th>130</th>\n",
       "      <td>Chrysler</td>\n",
       "      <td>Pacifica Touring</td>\n",
       "      <td>2017</td>\n",
       "      <td>87,305 mi.</td>\n",
       "      <td>–</td>\n",
       "      <td>–</td>\n",
       "      <td>9-Speed A/T</td>\n",
       "      <td>Silver</td>\n",
       "      <td>Black</td>\n",
       "      <td>None reported</td>\n",
       "      <td>Yes</td>\n",
       "      <td>$9,000</td>\n",
       "    </tr>\n",
       "    <tr>\n",
       "      <th>257</th>\n",
       "      <td>Toyota</td>\n",
       "      <td>Land Cruiser Base</td>\n",
       "      <td>1993</td>\n",
       "      <td>231,500 mi.</td>\n",
       "      <td>–</td>\n",
       "      <td>–</td>\n",
       "      <td>A/T</td>\n",
       "      <td>White</td>\n",
       "      <td>Gray</td>\n",
       "      <td>None reported</td>\n",
       "      <td>Yes</td>\n",
       "      <td>$29,500</td>\n",
       "    </tr>\n",
       "    <tr>\n",
       "      <th>338</th>\n",
       "      <td>Mazda</td>\n",
       "      <td>Mazda3 s Grand Touring</td>\n",
       "      <td>2016</td>\n",
       "      <td>85,000 mi.</td>\n",
       "      <td>–</td>\n",
       "      <td>–</td>\n",
       "      <td>A/T</td>\n",
       "      <td>Black</td>\n",
       "      <td>Black</td>\n",
       "      <td>At least 1 accident or damage reported</td>\n",
       "      <td>Yes</td>\n",
       "      <td>$18,500</td>\n",
       "    </tr>\n",
       "    <tr>\n",
       "      <th>491</th>\n",
       "      <td>Chrysler</td>\n",
       "      <td>Pacifica Touring</td>\n",
       "      <td>2017</td>\n",
       "      <td>63,000 mi.</td>\n",
       "      <td>–</td>\n",
       "      <td>–</td>\n",
       "      <td>9-Speed A/T</td>\n",
       "      <td>White</td>\n",
       "      <td>Beige</td>\n",
       "      <td>None reported</td>\n",
       "      <td>Yes</td>\n",
       "      <td>$20,000</td>\n",
       "    </tr>\n",
       "    <tr>\n",
       "      <th>692</th>\n",
       "      <td>Honda</td>\n",
       "      <td>Civic EX</td>\n",
       "      <td>1993</td>\n",
       "      <td>58,981 mi.</td>\n",
       "      <td>–</td>\n",
       "      <td>–</td>\n",
       "      <td>A/T</td>\n",
       "      <td>White</td>\n",
       "      <td>Beige</td>\n",
       "      <td>None reported</td>\n",
       "      <td>Yes</td>\n",
       "      <td>$9,599</td>\n",
       "    </tr>\n",
       "  </tbody>\n",
       "</table>\n",
       "</div>"
      ],
      "text/plain": [
       "        brand                   model  model_year       milage fuel_type  \\\n",
       "130  Chrysler        Pacifica Touring        2017   87,305 mi.         –   \n",
       "257    Toyota       Land Cruiser Base        1993  231,500 mi.         –   \n",
       "338     Mazda  Mazda3 s Grand Touring        2016   85,000 mi.         –   \n",
       "491  Chrysler        Pacifica Touring        2017   63,000 mi.         –   \n",
       "692     Honda                Civic EX        1993   58,981 mi.         –   \n",
       "\n",
       "    engine transmission ext_col int_col  \\\n",
       "130      –  9-Speed A/T  Silver   Black   \n",
       "257      –          A/T   White    Gray   \n",
       "338      –          A/T   Black   Black   \n",
       "491      –  9-Speed A/T   White   Beige   \n",
       "692      –          A/T   White   Beige   \n",
       "\n",
       "                                   accident clean_title    price  \n",
       "130                           None reported         Yes   $9,000  \n",
       "257                           None reported         Yes  $29,500  \n",
       "338  At least 1 accident or damage reported         Yes  $18,500  \n",
       "491                           None reported         Yes  $20,000  \n",
       "692                           None reported         Yes   $9,599  "
      ]
     },
     "execution_count": 123,
     "metadata": {},
     "output_type": "execute_result"
    }
   ],
   "source": [
    "fuel_dash.head()"
   ]
  },
  {
   "cell_type": "code",
   "execution_count": 124,
   "metadata": {},
   "outputs": [
    {
     "data": {
      "text/plain": [
       "(170, 12)"
      ]
     },
     "execution_count": 124,
     "metadata": {},
     "output_type": "execute_result"
    }
   ],
   "source": [
    "fuel_na = df.loc[pd.isna(df['fuel_type'])]\n",
    "fuel_na.shape\n"
   ]
  },
  {
   "cell_type": "code",
   "execution_count": 125,
   "metadata": {},
   "outputs": [
    {
     "data": {
      "text/html": [
       "<div>\n",
       "<style scoped>\n",
       "    .dataframe tbody tr th:only-of-type {\n",
       "        vertical-align: middle;\n",
       "    }\n",
       "\n",
       "    .dataframe tbody tr th {\n",
       "        vertical-align: top;\n",
       "    }\n",
       "\n",
       "    .dataframe thead th {\n",
       "        text-align: right;\n",
       "    }\n",
       "</style>\n",
       "<table border=\"1\" class=\"dataframe\">\n",
       "  <thead>\n",
       "    <tr style=\"text-align: right;\">\n",
       "      <th></th>\n",
       "      <th>brand</th>\n",
       "      <th>model</th>\n",
       "      <th>model_year</th>\n",
       "      <th>milage</th>\n",
       "      <th>fuel_type</th>\n",
       "      <th>engine</th>\n",
       "      <th>transmission</th>\n",
       "      <th>ext_col</th>\n",
       "      <th>int_col</th>\n",
       "      <th>accident</th>\n",
       "      <th>clean_title</th>\n",
       "      <th>price</th>\n",
       "    </tr>\n",
       "  </thead>\n",
       "  <tbody>\n",
       "    <tr>\n",
       "      <th>9</th>\n",
       "      <td>Tesla</td>\n",
       "      <td>Model X Long Range Plus</td>\n",
       "      <td>2020</td>\n",
       "      <td>34,000 mi.</td>\n",
       "      <td>NaN</td>\n",
       "      <td>534.0HP Electric Motor Electric Fuel System</td>\n",
       "      <td>A/T</td>\n",
       "      <td>Black</td>\n",
       "      <td>Black</td>\n",
       "      <td>None reported</td>\n",
       "      <td>Yes</td>\n",
       "      <td>$69,950</td>\n",
       "    </tr>\n",
       "    <tr>\n",
       "      <th>44</th>\n",
       "      <td>Lucid</td>\n",
       "      <td>Air Grand Touring</td>\n",
       "      <td>2022</td>\n",
       "      <td>3,552 mi.</td>\n",
       "      <td>NaN</td>\n",
       "      <td>536.0HP Electric Motor Electric Fuel System</td>\n",
       "      <td>1-Speed A/T</td>\n",
       "      <td>Red</td>\n",
       "      <td>Beige</td>\n",
       "      <td>None reported</td>\n",
       "      <td>Yes</td>\n",
       "      <td>$119,999</td>\n",
       "    </tr>\n",
       "    <tr>\n",
       "      <th>68</th>\n",
       "      <td>Lucid</td>\n",
       "      <td>Air Grand Touring</td>\n",
       "      <td>2022</td>\n",
       "      <td>4,900 mi.</td>\n",
       "      <td>NaN</td>\n",
       "      <td>536.0HP Electric Motor Electric Fuel System</td>\n",
       "      <td>1-Speed A/T</td>\n",
       "      <td>Red</td>\n",
       "      <td>Black</td>\n",
       "      <td>None reported</td>\n",
       "      <td>Yes</td>\n",
       "      <td>$99,000</td>\n",
       "    </tr>\n",
       "    <tr>\n",
       "      <th>92</th>\n",
       "      <td>Rivian</td>\n",
       "      <td>R1S Adventure Package</td>\n",
       "      <td>2023</td>\n",
       "      <td>2,800 mi.</td>\n",
       "      <td>NaN</td>\n",
       "      <td>835.0HP Electric Motor Electric Fuel System</td>\n",
       "      <td>1-Speed A/T</td>\n",
       "      <td>White</td>\n",
       "      <td>Green</td>\n",
       "      <td>None reported</td>\n",
       "      <td>Yes</td>\n",
       "      <td>$92,000</td>\n",
       "    </tr>\n",
       "    <tr>\n",
       "      <th>122</th>\n",
       "      <td>Rivian</td>\n",
       "      <td>R1S Adventure Package</td>\n",
       "      <td>2023</td>\n",
       "      <td>2,500 mi.</td>\n",
       "      <td>NaN</td>\n",
       "      <td>835.0HP Electric Motor Electric Fuel System</td>\n",
       "      <td>A/T</td>\n",
       "      <td>Green</td>\n",
       "      <td>White</td>\n",
       "      <td>None reported</td>\n",
       "      <td>Yes</td>\n",
       "      <td>$94,000</td>\n",
       "    </tr>\n",
       "  </tbody>\n",
       "</table>\n",
       "</div>"
      ],
      "text/plain": [
       "      brand                    model  model_year      milage fuel_type  \\\n",
       "9     Tesla  Model X Long Range Plus        2020  34,000 mi.       NaN   \n",
       "44    Lucid        Air Grand Touring        2022   3,552 mi.       NaN   \n",
       "68    Lucid        Air Grand Touring        2022   4,900 mi.       NaN   \n",
       "92   Rivian    R1S Adventure Package        2023   2,800 mi.       NaN   \n",
       "122  Rivian    R1S Adventure Package        2023   2,500 mi.       NaN   \n",
       "\n",
       "                                          engine transmission ext_col int_col  \\\n",
       "9    534.0HP Electric Motor Electric Fuel System          A/T   Black   Black   \n",
       "44   536.0HP Electric Motor Electric Fuel System  1-Speed A/T     Red   Beige   \n",
       "68   536.0HP Electric Motor Electric Fuel System  1-Speed A/T     Red   Black   \n",
       "92   835.0HP Electric Motor Electric Fuel System  1-Speed A/T   White   Green   \n",
       "122  835.0HP Electric Motor Electric Fuel System          A/T   Green   White   \n",
       "\n",
       "          accident clean_title     price  \n",
       "9    None reported         Yes   $69,950  \n",
       "44   None reported         Yes  $119,999  \n",
       "68   None reported         Yes   $99,000  \n",
       "92   None reported         Yes   $92,000  \n",
       "122  None reported         Yes   $94,000  "
      ]
     },
     "execution_count": 125,
     "metadata": {},
     "output_type": "execute_result"
    }
   ],
   "source": [
    "fuel_na.head()"
   ]
  },
  {
   "cell_type": "markdown",
   "metadata": {},
   "source": [
    "### Conclusion:\n",
    "For the values in the fuel column, NaN corresponds to electric motor car (I have checked the original csv file with Excel, and sort the column fuel_type, most fuel_type==NaN rows have the key word \"Electric\" contained in their \"engine\" column, a few rows have \"battery\" or \"dual motor\" in their \"engine\" column. I googled those vocabularies, they are all electric motor car.), dash corresponds to missing value (there are 45 rows, and they also miss the values for engine), \"not supported\" (only 2 rows have this, maybe we can just drop them) corresponds to Toyota Mirai models. \n",
    "\n",
    "To deal with this, we can fill in the NaN values by \"Electric\", and drop the missing values and the two Toyota Mirai rows. (I do so as below.)\n",
    "Another way to deal with the 45 missing values, is to google the model type and fill in the information by hand.  "
   ]
  },
  {
   "cell_type": "code",
   "execution_count": null,
   "metadata": {},
   "outputs": [],
   "source": [
    "df['fuel_type'].fillna('electric', inplace=True)"
   ]
  },
  {
   "cell_type": "code",
   "execution_count": 127,
   "metadata": {},
   "outputs": [],
   "source": [
    "df = df[(df.fuel_type != '–')&(df.fuel_type != 'not supported')]\n"
   ]
  },
  {
   "cell_type": "code",
   "execution_count": 128,
   "metadata": {},
   "outputs": [
    {
     "data": {
      "text/plain": [
       "fuel_type\n",
       "Gasoline          3309\n",
       "Hybrid             194\n",
       "electric           170\n",
       "E85 Flex Fuel      139\n",
       "Diesel             116\n",
       "Plug-In Hybrid      34\n",
       "Name: count, dtype: int64"
      ]
     },
     "execution_count": 128,
     "metadata": {},
     "output_type": "execute_result"
    }
   ],
   "source": [
    "df['fuel_type'].value_counts()\n"
   ]
  },
  {
   "cell_type": "markdown",
   "metadata": {},
   "source": [
    "## Clean price, milage columns and convert year column to age\n",
    "\n",
    "Since price and milage are of string type, we convert them to float type. \n",
    "\n",
    "We convert year value to age (age=2024-year). For example, a 2014 car has age 2024-2014 = 10."
   ]
  },
  {
   "cell_type": "code",
   "execution_count": 129,
   "metadata": {},
   "outputs": [],
   "source": [
    "def clean_price_column(text:str) -> float:\n",
    "    text = text[1:] # removes leading $\n",
    "    return float(text.replace(',','')) # removes comma and converts to float\n",
    "\n",
    "df['price'] = df['price'].apply(clean_price_column)"
   ]
  },
  {
   "cell_type": "code",
   "execution_count": 130,
   "metadata": {},
   "outputs": [],
   "source": [
    "def clean_milage_column(text:str) -> float:\n",
    "    text = text.replace(',','')\n",
    "    return float(text.replace(' mi.', ''))\n",
    "\n",
    "df['milage'] = df['milage'].apply(clean_milage_column)"
   ]
  },
  {
   "cell_type": "code",
   "execution_count": 131,
   "metadata": {},
   "outputs": [
    {
     "name": "stdout",
     "output_type": "stream",
     "text": [
      "<class 'pandas.core.frame.DataFrame'>\n",
      "Index: 3962 entries, 0 to 4008\n",
      "Data columns (total 12 columns):\n",
      " #   Column        Non-Null Count  Dtype  \n",
      "---  ------        --------------  -----  \n",
      " 0   brand         3962 non-null   object \n",
      " 1   model         3962 non-null   object \n",
      " 2   age           3962 non-null   int64  \n",
      " 3   milage        3962 non-null   float64\n",
      " 4   fuel_type     3962 non-null   object \n",
      " 5   engine        3962 non-null   object \n",
      " 6   transmission  3962 non-null   object \n",
      " 7   ext_col       3962 non-null   object \n",
      " 8   int_col       3962 non-null   object \n",
      " 9   accident      3850 non-null   object \n",
      " 10  clean_title   3367 non-null   object \n",
      " 11  price         3962 non-null   float64\n",
      "dtypes: float64(2), int64(1), object(9)\n",
      "memory usage: 402.4+ KB\n"
     ]
    }
   ],
   "source": [
    "def year_to_age(y:int) -> int:\n",
    "    return 2024-y\n",
    "\n",
    "df['model_year'] = df['model_year'].apply(year_to_age)\n",
    "df.rename(columns = {'model_year':'age'},inplace = True)\n",
    "df.info()"
   ]
  },
  {
   "cell_type": "markdown",
   "metadata": {},
   "source": [
    "# Create new column log_price"
   ]
  },
  {
   "cell_type": "code",
   "execution_count": 132,
   "metadata": {},
   "outputs": [],
   "source": [
    "df['log_price'] = np.log10(df['price'])"
   ]
  },
  {
   "cell_type": "markdown",
   "metadata": {},
   "source": [
    "# Check accident column"
   ]
  },
  {
   "cell_type": "code",
   "execution_count": 133,
   "metadata": {},
   "outputs": [
    {
     "data": {
      "text/plain": [
       "array(['At least 1 accident or damage reported', 'None reported', nan],\n",
       "      dtype=object)"
      ]
     },
     "execution_count": 133,
     "metadata": {},
     "output_type": "execute_result"
    }
   ],
   "source": [
    "df['accident'].unique()"
   ]
  },
  {
   "cell_type": "code",
   "execution_count": 134,
   "metadata": {},
   "outputs": [
    {
     "data": {
      "text/plain": [
       "accident\n",
       "None reported                             2875\n",
       "At least 1 accident or damage reported     975\n",
       "Name: count, dtype: int64"
      ]
     },
     "execution_count": 134,
     "metadata": {},
     "output_type": "execute_result"
    }
   ],
   "source": [
    "df['accident'].value_counts()"
   ]
  },
  {
   "cell_type": "code",
   "execution_count": 135,
   "metadata": {},
   "outputs": [
    {
     "data": {
      "text/plain": [
       "(112, 13)"
      ]
     },
     "execution_count": 135,
     "metadata": {},
     "output_type": "execute_result"
    }
   ],
   "source": [
    "accident_NaN = df.loc[pd.isna(df['accident'])]\n",
    "accident_NaN.shape"
   ]
  },
  {
   "cell_type": "code",
   "execution_count": null,
   "metadata": {},
   "outputs": [],
   "source": [
    "df['accident'].fillna('None reported',inplace=True)"
   ]
  },
  {
   "cell_type": "code",
   "execution_count": 137,
   "metadata": {},
   "outputs": [
    {
     "data": {
      "text/plain": [
       "accident\n",
       "None reported                             2987\n",
       "At least 1 accident or damage reported     975\n",
       "Name: count, dtype: int64"
      ]
     },
     "execution_count": 137,
     "metadata": {},
     "output_type": "execute_result"
    }
   ],
   "source": [
    "df['accident'].value_counts()"
   ]
  },
  {
   "cell_type": "markdown",
   "metadata": {},
   "source": [
    "# Check clean_title column\n"
   ]
  },
  {
   "cell_type": "code",
   "execution_count": 138,
   "metadata": {},
   "outputs": [
    {
     "data": {
      "text/plain": [
       "array(['Yes', nan], dtype=object)"
      ]
     },
     "execution_count": 138,
     "metadata": {},
     "output_type": "execute_result"
    }
   ],
   "source": [
    "df['clean_title'].unique()"
   ]
  },
  {
   "cell_type": "code",
   "execution_count": 139,
   "metadata": {},
   "outputs": [
    {
     "data": {
      "text/plain": [
       "(595, 13)"
      ]
     },
     "execution_count": 139,
     "metadata": {},
     "output_type": "execute_result"
    }
   ],
   "source": [
    "clean_title_NaN = df.loc[pd.isna(df['clean_title'])]\n",
    "clean_title_NaN.shape"
   ]
  },
  {
   "cell_type": "code",
   "execution_count": null,
   "metadata": {},
   "outputs": [],
   "source": [
    "df['clean_title'].fillna('no',inplace=True)"
   ]
  },
  {
   "cell_type": "code",
   "execution_count": 141,
   "metadata": {},
   "outputs": [
    {
     "data": {
      "text/plain": [
       "clean_title\n",
       "Yes    3367\n",
       "no      595\n",
       "Name: count, dtype: int64"
      ]
     },
     "execution_count": 141,
     "metadata": {},
     "output_type": "execute_result"
    }
   ],
   "source": [
    "df.clean_title.value_counts()"
   ]
  },
  {
   "cell_type": "markdown",
   "metadata": {},
   "source": [
    "# Clean color columns\n",
    " "
   ]
  },
  {
   "cell_type": "markdown",
   "metadata": {},
   "source": [
    "First, let's see what are the top 20 popular colors for ext_color and int_color. The result shows that black is the most popular for both ext and int color. We can impute the missing values with black. "
   ]
  },
  {
   "cell_type": "code",
   "execution_count": 142,
   "metadata": {},
   "outputs": [
    {
     "data": {
      "text/plain": [
       "ext_col\n",
       "Black                                 900\n",
       "White                                 804\n",
       "Gray                                  490\n",
       "Silver                                369\n",
       "Blue                                  344\n",
       "Red                                   255\n",
       "Green                                  70\n",
       "Brown                                  43\n",
       "Gold                                   41\n",
       "Beige                                  38\n",
       "Orange                                 36\n",
       "Yellow                                 29\n",
       "–                                      15\n",
       "Bright White Clearcoat                 14\n",
       "Diamond Black                          14\n",
       "Summit White                           14\n",
       "Purple                                 11\n",
       "Alpine White                            8\n",
       "Granite Crystal Clearcoat Metallic      7\n",
       "Silver Ice Metallic                     7\n",
       "Name: count, dtype: int64"
      ]
     },
     "execution_count": 142,
     "metadata": {},
     "output_type": "execute_result"
    }
   ],
   "source": [
    "df.ext_col.value_counts()[:20]"
   ]
  },
  {
   "cell_type": "code",
   "execution_count": 143,
   "metadata": {},
   "outputs": [
    {
     "data": {
      "text/plain": [
       "int_col\n",
       "Black                  2008\n",
       "Beige                   534\n",
       "Gray                    458\n",
       "Brown                   156\n",
       "–                       129\n",
       "White                   125\n",
       "Red                     125\n",
       "Jet Black                59\n",
       "Ebony                    44\n",
       "Blue                     26\n",
       "Orange                   20\n",
       "Silver                   16\n",
       "Global Black             13\n",
       "Charcoal                 12\n",
       "Nero Ade                 10\n",
       "Gold                     10\n",
       "Graphite                  8\n",
       "Green                     7\n",
       "Diesel Gray / Black       6\n",
       "Black Onyx                5\n",
       "Name: count, dtype: int64"
      ]
     },
     "execution_count": 143,
     "metadata": {},
     "output_type": "execute_result"
    }
   ],
   "source": [
    "df.int_col.value_counts()[:20]"
   ]
  },
  {
   "cell_type": "markdown",
   "metadata": {},
   "source": [
    "Color names like 'Charcoal Black', 'Summit White' can be classified as 'black' and 'white'. Next, we build a function to extract color names. And then we apply the function to the color columns. "
   ]
  },
  {
   "cell_type": "code",
   "execution_count": 144,
   "metadata": {},
   "outputs": [],
   "source": [
    "#Import regular expression package. \n",
    "import re"
   ]
  },
  {
   "cell_type": "code",
   "execution_count": 145,
   "metadata": {},
   "outputs": [],
   "source": [
    "def extract_ext_color(text):\n",
    "    if text == '–': return 'black'\n",
    "    color_set = {'black','white','gray','silver','blue', 'red'}\n",
    "    text = text.lower()\n",
    "    for color in color_set:\n",
    "        if re.search(color, text):\n",
    "            return color\n",
    "    return 'other'\n",
    "\n",
    "def extract_int_color(text):\n",
    "    if text == '–': return 'black'\n",
    "    color_set = {'black','beige', 'gray', 'brown', 'white', 'red'}\n",
    "    text = text.lower()\n",
    "    for color in color_set:\n",
    "        if re.search(color, text):\n",
    "            return color\n",
    "    return 'other'\n"
   ]
  },
  {
   "cell_type": "code",
   "execution_count": 146,
   "metadata": {},
   "outputs": [],
   "source": [
    "df['ext_col'] = df['ext_col'].apply(extract_ext_color)\n",
    "df['int_col'] = df['int_col'].apply(extract_int_color)"
   ]
  },
  {
   "cell_type": "code",
   "execution_count": 147,
   "metadata": {},
   "outputs": [
    {
     "data": {
      "text/plain": [
       "ext_col\n",
       "black     1026\n",
       "white      910\n",
       "gray       528\n",
       "silver     416\n",
       "blue       390\n",
       "other      387\n",
       "red        305\n",
       "Name: count, dtype: int64"
      ]
     },
     "execution_count": 147,
     "metadata": {},
     "output_type": "execute_result"
    }
   ],
   "source": [
    "df.ext_col.value_counts()"
   ]
  },
  {
   "cell_type": "code",
   "execution_count": 148,
   "metadata": {},
   "outputs": [
    {
     "data": {
      "text/plain": [
       "int_col\n",
       "black    2255\n",
       "beige     552\n",
       "gray      469\n",
       "other     255\n",
       "brown     161\n",
       "red       141\n",
       "white     129\n",
       "Name: count, dtype: int64"
      ]
     },
     "execution_count": 148,
     "metadata": {},
     "output_type": "execute_result"
    }
   ],
   "source": [
    "df.int_col.value_counts()"
   ]
  },
  {
   "cell_type": "markdown",
   "metadata": {},
   "source": [
    "# Clean transmission column"
   ]
  },
  {
   "cell_type": "code",
   "execution_count": 149,
   "metadata": {},
   "outputs": [
    {
     "data": {
      "text/plain": [
       "array(['6-Speed A/T', '8-Speed Automatic', 'Automatic', '7-Speed A/T',\n",
       "       'F', 'A/T', '8-Speed A/T', 'Transmission w/Dual Shift Mode',\n",
       "       '9-Speed Automatic', '6-Speed M/T', '10-Speed A/T', '9-Speed A/T',\n",
       "       '5-Speed A/T', '1-Speed A/T', 'Automatic CVT',\n",
       "       '7-Speed Automatic with Auto-Shift', 'CVT-F', 'M/T',\n",
       "       '6-Speed Automatic with Auto-Shift', '10-Speed Automatic',\n",
       "       'CVT Transmission', '4-Speed A/T', '6-Speed Automatic',\n",
       "       '4-Speed Automatic', '7-Speed M/T',\n",
       "       '8-Speed Automatic with Auto-Shift', '5-Speed Automatic',\n",
       "       '8-SPEED AT', '1-Speed Automatic', '5-Speed M/T', 'Manual',\n",
       "       '6-Speed Manual', 'Variable', '2', '7-Speed Manual',\n",
       "       'Automatic, 9-Spd 9G-Tronic', 'Automatic, 8-Spd',\n",
       "       'Automatic, 8-Spd Sport w/Sport & Manual Modes', '–',\n",
       "       'Auto, 6-Spd w/CmdShft', 'Transmission Overdrive Switch',\n",
       "       '7-Speed Automatic', 'Automatic, 8-Spd PDK Dual-Clutch',\n",
       "       'Automatic, 8-Spd M STEPTRONIC w/Drivelogic, Sport & Manual Modes',\n",
       "       'Automatic, 8-Spd Dual-Clutch', '6-Speed',\n",
       "       'Single-Speed Fixed Gear', 'Automatic, 10-Spd',\n",
       "       '2-Speed Automatic', '7-Speed',\n",
       "       'Automatic, 7-Spd S tronic Dual-Clutch', 'Manual, 6-Spd',\n",
       "       '6-Speed Electronically Controlled Automatic with O',\n",
       "       '6 Speed At/Mt', '8-SPEED A/T',\n",
       "       '10-Speed Automatic with Overdrive', '7-Speed DCT Automatic',\n",
       "       '9-Speed Automatic with Auto-Shift',\n",
       "       'SCHEDULED FOR OR IN PRODUCTION', '2-Speed A/T', '6 Speed Mt',\n",
       "       '8-Speed Manual'], dtype=object)"
      ]
     },
     "execution_count": 149,
     "metadata": {},
     "output_type": "execute_result"
    }
   ],
   "source": [
    "df['transmission'].unique()"
   ]
  },
  {
   "cell_type": "code",
   "execution_count": 150,
   "metadata": {},
   "outputs": [],
   "source": [
    "def extract_transmission_type(text):\n",
    "    if text == '–': return 'black'\n",
    "    auto_set = {'a/t', 'cvt','cvt-f','automatic', 'auto,', 'switch',\n",
    "                'dual-clutch', 'at/mt','single-speed fixed gear',\n",
    "                'transmission overdrive switch','at', 'w/dual shift mode','black'}\n",
    "    manual_set = {'mamual','mt','m/t','manual,'}\n",
    "    text = text.lower()\n",
    "    if text == 'f' or text == 'variable' or text=='2' or text=='6-speed' or text=='7-speed' or text=='scheduled for or in production': return 'automatic'\n",
    "    if text == '7-speed manual' or text == '6-speed manual' or text == '8-speed manual': return 'manual'\n",
    "    for at in auto_set:\n",
    "        if re.search(at, text):\n",
    "            return 'automatic'\n",
    "    for mt in manual_set:\n",
    "        if re.search(mt, text):\n",
    "            return 'manual'\n",
    "    return text"
   ]
  },
  {
   "cell_type": "code",
   "execution_count": 154,
   "metadata": {},
   "outputs": [],
   "source": [
    "df['transmission'] = df['transmission'].apply(extract_transmission_type)"
   ]
  },
  {
   "cell_type": "code",
   "execution_count": 155,
   "metadata": {},
   "outputs": [
    {
     "data": {
      "text/plain": [
       "transmission\n",
       "automatic    3600\n",
       "manual        362\n",
       "Name: count, dtype: int64"
      ]
     },
     "execution_count": 155,
     "metadata": {},
     "output_type": "execute_result"
    }
   ],
   "source": [
    "df['transmission'].value_counts()"
   ]
  },
  {
   "cell_type": "markdown",
   "metadata": {},
   "source": [
    "# Split the data into electric and non-electric"
   ]
  },
  {
   "cell_type": "markdown",
   "metadata": {},
   "source": []
  },
  {
   "cell_type": "code",
   "execution_count": null,
   "metadata": {},
   "outputs": [],
   "source": [
    "#df_electric = df[df.fuel_type == 'electric'].copy()\n",
    "#df_non_electric = df[df.fuel_type != 'electric'].copy()"
   ]
  },
  {
   "cell_type": "code",
   "execution_count": 156,
   "metadata": {},
   "outputs": [],
   "source": [
    "df['electric'] = pd.get_dummies(df['fuel_type'])['electric']"
   ]
  },
  {
   "cell_type": "code",
   "execution_count": 165,
   "metadata": {},
   "outputs": [
    {
     "data": {
      "text/plain": [
       "electric\n",
       "False    3792\n",
       "True      170\n",
       "Name: count, dtype: int64"
      ]
     },
     "execution_count": 165,
     "metadata": {},
     "output_type": "execute_result"
    }
   ],
   "source": [
    "df['electric'].value_counts()"
   ]
  },
  {
   "cell_type": "markdown",
   "metadata": {},
   "source": [
    "# Drop outliers\n",
    "\n",
    "Drop outliers for age, mileage, price columns, with upper limit = 99.5 percentile, lower limit = 0.5 percentile."
   ]
  },
  {
   "cell_type": "code",
   "execution_count": 157,
   "metadata": {},
   "outputs": [
    {
     "name": "stdout",
     "output_type": "stream",
     "text": [
      "3500.0 367773.2550000065\n",
      "299.805 244039.00000000003\n",
      "1.0 26.0\n"
     ]
    }
   ],
   "source": [
    "price_lower_limit, price_upper_limit = np.percentile(a=df.price,q=[0.5,99.5])\n",
    "milage_lower_limit, milage_upper_limit = np.percentile(a=df.milage,q=[0.5,99.5])\n",
    "age_lower_limit, age_upper_limit = np.percentile(a=df.age,q=[0.5,99.5])\n",
    "print(price_lower_limit,price_upper_limit)\n",
    "print(milage_lower_limit,milage_upper_limit)\n",
    "print(age_lower_limit,age_upper_limit)"
   ]
  },
  {
   "cell_type": "code",
   "execution_count": 158,
   "metadata": {},
   "outputs": [
    {
     "data": {
      "text/plain": [
       "(3645, 14)"
      ]
     },
     "execution_count": 158,
     "metadata": {},
     "output_type": "execute_result"
    }
   ],
   "source": [
    "df_filtered = df[(df.price>price_lower_limit) & (df.price<price_upper_limit)\\\n",
    "                  & (df.milage>milage_lower_limit) & (df.milage<milage_upper_limit)\\\n",
    "                  & (df.age>age_lower_limit) & (df.age<age_upper_limit)]\n",
    "\n",
    "df_filtered.shape"
   ]
  },
  {
   "cell_type": "markdown",
   "metadata": {},
   "source": [
    "# Train-test split stratified by electric/non-electric"
   ]
  },
  {
   "cell_type": "code",
   "execution_count": 159,
   "metadata": {},
   "outputs": [],
   "source": [
    "from sklearn.model_selection import train_test_split"
   ]
  },
  {
   "cell_type": "code",
   "execution_count": 167,
   "metadata": {},
   "outputs": [],
   "source": [
    "X = df_filtered.drop(['price'],axis=1)\n",
    "y = df_filtered['price']"
   ]
  },
  {
   "cell_type": "code",
   "execution_count": 168,
   "metadata": {},
   "outputs": [],
   "source": [
    "X_train, X_test, y_train, y_test  = train_test_split(X, y,\n",
    "                                            shuffle=True,\n",
    "                                            random_state=21,\n",
    "                                            test_size = .2,\n",
    "                                            stratify=df_filtered['electric'])"
   ]
  },
  {
   "cell_type": "code",
   "execution_count": 169,
   "metadata": {},
   "outputs": [
    {
     "name": "stdout",
     "output_type": "stream",
     "text": [
      "The shape of X_train is (2916, 13)\n",
      "The shape of X_test is (729, 13)\n",
      "The length of y_train is 2916\n",
      "The length of y_test is 729\n"
     ]
    }
   ],
   "source": [
    "print(\"The shape of X_train is\",X_train.shape)\n",
    "print(\"The shape of X_test is\",X_test.shape)\n",
    "print(\"The length of y_train is\",len(y_train))\n",
    "print(\"The length of y_test is\",len(y_test))"
   ]
  },
  {
   "cell_type": "code",
   "execution_count": 170,
   "metadata": {},
   "outputs": [],
   "source": [
    "continuous_features = ['milage','age']"
   ]
  },
  {
   "cell_type": "code",
   "execution_count": 171,
   "metadata": {},
   "outputs": [],
   "source": [
    "from sklearn.linear_model import LinearRegression\n",
    "from sklearn.metrics import root_mean_squared_error"
   ]
  },
  {
   "cell_type": "code",
   "execution_count": 172,
   "metadata": {},
   "outputs": [
    {
     "data": {
      "text/plain": [
       "<generator object _BaseKFold.split at 0x000001601CE1AF00>"
      ]
     },
     "execution_count": 172,
     "metadata": {},
     "output_type": "execute_result"
    }
   ],
   "source": [
    "from sklearn.model_selection import KFold\n",
    "kfold = KFold(n_splits = 5,\n",
    "              shuffle = True,\n",
    "              random_state = 582)\n",
    "kfold.split(X_train, y_train)"
   ]
  },
  {
   "cell_type": "code",
   "execution_count": 173,
   "metadata": {},
   "outputs": [
    {
     "name": "stdout",
     "output_type": "stream",
     "text": [
      "Train index: [   0    2    4 ... 2913 2914 2915]\n",
      "Test index: [   1    3   12   18   19   31   33   40   41   42   44   47   52   59\n",
      "   64   70   74   76   77   78   80   82   83   91   96  100  107  114\n",
      "  121  123  129  141  142  144  156  160  167  172  176  183  184  187\n",
      "  193  195  199  205  211  213  214  218  225  232  234  235  239  244\n",
      "  256  260  265  274  281  299  301  311  317  321  324  338  369  370\n",
      "  371  372  373  383  385  389  390  397  398  403  410  413  416  418\n",
      "  426  428  431  444  445  460  464  467  472  476  477  487  491  496\n",
      "  508  518  523  525  529  535  536  538  539  544  549  552  555  557\n",
      "  558  568  573  577  583  588  595  607  612  613  619  625  631  633\n",
      "  634  643  651  673  674  679  682  685  688  693  698  705  710  711\n",
      "  720  732  745  746  747  766  767  769  771  773  780  783  785  797\n",
      "  800  815  822  836  837  838  840  841  842  845  860  863  865  867\n",
      "  868  872  895  908  912  915  927  929  933  934  938  940  942  946\n",
      "  952  962  968  989  991  996 1011 1012 1019 1028 1031 1040 1044 1045\n",
      " 1046 1051 1053 1057 1068 1072 1083 1084 1089 1092 1104 1116 1118 1131\n",
      " 1134 1137 1139 1145 1152 1156 1157 1158 1163 1164 1170 1176 1178 1181\n",
      " 1182 1187 1195 1197 1199 1202 1206 1252 1253 1254 1258 1259 1262 1267\n",
      " 1268 1270 1272 1281 1284 1287 1288 1293 1294 1297 1303 1304 1306 1317\n",
      " 1319 1321 1329 1330 1338 1341 1350 1354 1355 1359 1360 1361 1362 1367\n",
      " 1369 1374 1375 1376 1381 1384 1386 1387 1390 1406 1409 1411 1412 1413\n",
      " 1417 1418 1424 1428 1429 1454 1455 1462 1463 1468 1471 1472 1473 1475\n",
      " 1482 1490 1492 1493 1494 1495 1497 1498 1502 1506 1518 1520 1524 1532\n",
      " 1534 1536 1538 1539 1547 1551 1559 1564 1569 1574 1582 1583 1599 1603\n",
      " 1607 1615 1648 1651 1655 1656 1661 1663 1666 1677 1678 1683 1689 1697\n",
      " 1703 1705 1706 1709 1715 1718 1720 1725 1726 1727 1728 1732 1739 1740\n",
      " 1743 1761 1764 1767 1769 1770 1773 1777 1784 1785 1788 1791 1793 1812\n",
      " 1826 1830 1831 1832 1845 1852 1854 1856 1857 1861 1869 1875 1879 1881\n",
      " 1890 1892 1894 1897 1900 1903 1908 1918 1920 1924 1926 1927 1938 1947\n",
      " 1948 1952 1972 1979 1980 1981 1982 1984 1985 1999 2006 2007 2009 2011\n",
      " 2013 2016 2021 2022 2039 2043 2048 2051 2053 2061 2073 2075 2082 2087\n",
      " 2088 2092 2095 2097 2108 2118 2121 2128 2131 2138 2148 2151 2168 2171\n",
      " 2178 2188 2192 2193 2194 2197 2208 2209 2215 2216 2218 2220 2230 2241\n",
      " 2249 2251 2253 2255 2264 2273 2274 2276 2283 2295 2308 2310 2311 2313\n",
      " 2316 2321 2322 2333 2344 2345 2348 2352 2360 2361 2373 2377 2391 2394\n",
      " 2399 2407 2409 2412 2420 2423 2429 2430 2431 2446 2452 2463 2465 2468\n",
      " 2470 2475 2487 2489 2490 2491 2492 2493 2501 2505 2507 2510 2512 2514\n",
      " 2515 2523 2525 2533 2536 2540 2542 2544 2549 2553 2555 2560 2561 2569\n",
      " 2571 2573 2579 2583 2588 2591 2596 2600 2605 2606 2608 2610 2615 2618\n",
      " 2622 2626 2632 2635 2636 2640 2642 2646 2647 2651 2658 2660 2667 2674\n",
      " 2675 2696 2709 2711 2726 2731 2737 2741 2752 2755 2758 2759 2761 2766\n",
      " 2768 2770 2785 2791 2792 2796 2804 2817 2821 2827 2828 2857 2862 2870\n",
      " 2872 2873 2887 2890 2894 2897 2903 2904 2908 2911]\n",
      "\n",
      "\n",
      "Train index: [   1    2    3 ... 2911 2914 2915]\n",
      "Test index: [   0    8   16   21   29   32   35   37   43   57   67   99  101  106\n",
      "  113  119  122  128  133  140  150  152  158  168  169  173  177  178\n",
      "  180  182  191  197  202  209  210  228  231  241  245  247  251  261\n",
      "  263  264  267  269  270  272  275  277  280  283  285  286  287  292\n",
      "  293  295  296  307  322  329  332  336  354  355  367  374  384  388\n",
      "  395  405  407  422  435  436  439  441  448  450  455  458  459  462\n",
      "  465  480  481  485  495  497  500  514  517  519  521  522  528  532\n",
      "  543  550  551  565  567  582  596  604  606  618  620  622  637  638\n",
      "  641  644  645  648  649  650  652  656  663  667  668  672  677  692\n",
      "  696  700  704  706  708  709  713  717  722  725  729  737  752  755\n",
      "  761  764  791  796  799  801  805  806  808  811  818  819  825  828\n",
      "  829  830  831  832  834  839  850  851  852  853  874  875  883  885\n",
      "  887  889  897  899  903  910  911  913  924  926  930  931  932  936\n",
      "  941  948  949  953  954  959  963  966  969  974  984  987  992  998\n",
      "  999 1000 1008 1015 1017 1022 1025 1027 1035 1036 1043 1052 1054 1056\n",
      " 1059 1061 1063 1069 1075 1076 1079 1080 1091 1094 1096 1105 1108 1112\n",
      " 1119 1121 1123 1124 1125 1128 1129 1132 1135 1151 1155 1162 1167 1168\n",
      " 1173 1196 1201 1205 1211 1220 1224 1227 1231 1232 1239 1241 1243 1248\n",
      " 1250 1251 1255 1260 1264 1265 1275 1276 1282 1283 1298 1300 1301 1310\n",
      " 1313 1318 1324 1327 1334 1342 1344 1351 1365 1371 1372 1383 1394 1397\n",
      " 1404 1416 1419 1421 1425 1427 1437 1440 1444 1445 1448 1450 1452 1458\n",
      " 1464 1465 1466 1478 1480 1484 1486 1489 1496 1501 1510 1528 1531 1541\n",
      " 1553 1568 1587 1593 1594 1598 1601 1605 1608 1612 1616 1625 1627 1630\n",
      " 1636 1638 1643 1647 1649 1653 1654 1657 1662 1665 1672 1675 1676 1682\n",
      " 1687 1690 1691 1693 1696 1698 1704 1710 1712 1717 1721 1729 1733 1735\n",
      " 1751 1754 1756 1759 1765 1766 1778 1779 1780 1782 1787 1797 1802 1803\n",
      " 1808 1827 1828 1842 1844 1847 1859 1862 1865 1871 1874 1877 1882 1885\n",
      " 1888 1895 1899 1902 1907 1909 1915 1922 1930 1941 1942 1943 1945 1960\n",
      " 1970 1975 1986 1993 1996 1997 2000 2008 2012 2014 2017 2026 2027 2031\n",
      " 2038 2040 2049 2054 2058 2063 2064 2065 2066 2069 2071 2072 2078 2081\n",
      " 2084 2090 2091 2093 2094 2099 2102 2105 2106 2117 2120 2127 2134 2137\n",
      " 2157 2159 2177 2182 2196 2201 2205 2213 2219 2227 2231 2233 2234 2246\n",
      " 2261 2269 2275 2279 2282 2287 2292 2294 2304 2306 2307 2312 2314 2318\n",
      " 2319 2320 2325 2338 2342 2350 2351 2353 2355 2356 2362 2363 2364 2368\n",
      " 2370 2371 2376 2385 2386 2388 2389 2390 2392 2395 2400 2408 2410 2421\n",
      " 2422 2426 2433 2435 2453 2454 2458 2459 2460 2461 2464 2469 2471 2477\n",
      " 2484 2486 2494 2498 2519 2522 2532 2546 2552 2554 2565 2566 2580 2587\n",
      " 2593 2598 2599 2603 2619 2627 2637 2641 2643 2649 2666 2669 2682 2685\n",
      " 2686 2691 2698 2701 2707 2712 2717 2718 2724 2729 2742 2743 2748 2750\n",
      " 2756 2765 2767 2769 2778 2779 2793 2805 2808 2809 2810 2813 2815 2816\n",
      " 2818 2820 2823 2838 2839 2840 2848 2849 2854 2855 2856 2858 2864 2881\n",
      " 2882 2884 2885 2892 2893 2899 2906 2912 2913]\n",
      "\n",
      "\n",
      "Train index: [   0    1    2 ... 2913 2914 2915]\n",
      "Test index: [   9   10   20   24   28   30   39   48   56   62   71   81   84   94\n",
      "   97  105  124  136  138  143  148  149  153  165  166  194  200  201\n",
      "  203  204  207  215  219  224  227  230  233  236  237  238  240  246\n",
      "  254  258  266  279  284  294  298  302  303  305  308  309  315  320\n",
      "  325  326  330  333  349  350  353  358  365  381  392  393  399  400\n",
      "  409  414  420  421  429  432  433  438  440  443  447  452  453  468\n",
      "  469  471  474  482  483  490  498  502  503  506  512  513  515  526\n",
      "  547  554  560  562  580  581  584  586  587  593  597  598  602  603\n",
      "  608  609  610  614  636  639  640  646  653  654  660  664  666  670\n",
      "  675  701  707  712  714  727  733  738  744  750  753  756  763  774\n",
      "  775  786  787  792  793  794  802  804  814  816  817  821  823  826\n",
      "  846  849  856  859  861  864  866  870  877  882  884  886  888  892\n",
      "  893  901  906  907  923  937  943  957  964  965  970  971  972  975\n",
      "  977  980  983  985  990  994  995 1004 1007 1009 1030 1038 1039 1047\n",
      " 1048 1050 1065 1067 1073 1074 1082 1086 1087 1095 1099 1100 1101 1106\n",
      " 1113 1120 1122 1127 1130 1140 1142 1144 1146 1149 1165 1177 1183 1184\n",
      " 1186 1189 1198 1203 1209 1210 1212 1216 1217 1221 1222 1223 1228 1236\n",
      " 1238 1242 1246 1247 1274 1278 1280 1289 1295 1296 1307 1312 1314 1315\n",
      " 1316 1322 1325 1331 1332 1339 1346 1347 1349 1353 1364 1373 1379 1385\n",
      " 1391 1398 1401 1407 1410 1414 1422 1423 1426 1431 1432 1436 1449 1451\n",
      " 1456 1459 1461 1467 1470 1481 1485 1488 1499 1505 1511 1516 1517 1519\n",
      " 1527 1529 1533 1537 1544 1545 1549 1550 1552 1555 1556 1558 1560 1565\n",
      " 1570 1573 1576 1577 1579 1590 1592 1600 1602 1609 1613 1614 1621 1623\n",
      " 1626 1628 1631 1637 1639 1640 1641 1642 1644 1645 1650 1658 1667 1670\n",
      " 1674 1680 1686 1688 1694 1699 1700 1702 1724 1744 1745 1746 1748 1749\n",
      " 1755 1768 1775 1786 1792 1794 1796 1798 1809 1810 1816 1821 1834 1835\n",
      " 1837 1839 1843 1850 1867 1872 1876 1878 1891 1896 1906 1914 1917 1928\n",
      " 1929 1931 1935 1940 1946 1957 1961 1963 1964 1966 1989 1990 1991 1992\n",
      " 1995 2003 2005 2010 2024 2028 2029 2033 2037 2046 2047 2062 2068 2074\n",
      " 2083 2096 2101 2113 2119 2124 2132 2133 2135 2139 2141 2144 2146 2149\n",
      " 2154 2161 2164 2166 2180 2181 2183 2184 2186 2187 2191 2195 2198 2202\n",
      " 2212 2217 2222 2224 2229 2236 2239 2240 2245 2248 2250 2254 2257 2259\n",
      " 2265 2268 2270 2271 2272 2289 2298 2299 2326 2328 2329 2330 2331 2337\n",
      " 2339 2346 2347 2357 2358 2366 2367 2380 2381 2382 2393 2402 2403 2406\n",
      " 2411 2414 2434 2439 2441 2448 2455 2456 2457 2467 2472 2474 2480 2482\n",
      " 2485 2495 2496 2500 2504 2508 2516 2517 2520 2526 2527 2530 2541 2543\n",
      " 2557 2558 2559 2562 2563 2567 2570 2574 2575 2576 2578 2582 2585 2586\n",
      " 2590 2602 2616 2617 2621 2631 2639 2645 2653 2655 2656 2661 2662 2665\n",
      " 2670 2671 2676 2677 2678 2681 2683 2699 2700 2706 2708 2713 2721 2728\n",
      " 2732 2733 2734 2738 2739 2740 2746 2757 2762 2764 2775 2782 2788 2790\n",
      " 2794 2795 2797 2803 2806 2807 2811 2826 2829 2833 2841 2844 2847 2852\n",
      " 2859 2866 2876 2877 2880 2889 2891 2895 2902]\n",
      "\n",
      "\n",
      "Train index: [   0    1    3 ... 2912 2913 2914]\n",
      "Test index: [   2    4    7   17   25   26   36   45   46   50   51   53   63   65\n",
      "   66   68   72   73   79   85   90   98  102  104  109  110  117  118\n",
      "  125  126  130  131  132  134  147  162  175  179  181  185  186  188\n",
      "  190  192  196  206  212  217  220  222  223  226  229  242  248  250\n",
      "  252  253  259  262  268  276  278  288  289  290  304  312  314  318\n",
      "  323  328  334  337  341  343  345  348  351  352  356  357  359  360\n",
      "  362  363  364  368  376  377  378  379  396  402  404  406  411  415\n",
      "  423  424  425  430  437  442  446  449  454  463  470  473  475  486\n",
      "  488  493  494  501  504  505  509  510  527  534  540  548  553  556\n",
      "  559  561  566  569  570  571  572  574  575  578  589  591  592  594\n",
      "  599  600  601  605  615  617  621  623  624  626  627  630  635  655\n",
      "  658  659  661  665  669  671  676  678  680  681  683  684  687  691\n",
      "  702  703  718  721  724  726  734  735  740  749  751  754  757  758\n",
      "  759  760  762  765  776  779  781  782  784  788  795  803  807  809\n",
      "  810  812  820  843  844  855  858  862  871  878  879  890  894  902\n",
      "  909  914  919  920  922  935  939  944  945  951  955  956  958  960\n",
      "  981  997 1010 1013 1014 1018 1023 1029 1033 1037 1064 1066 1070 1071\n",
      " 1098 1109 1114 1115 1126 1147 1161 1174 1175 1179 1188 1190 1191 1204\n",
      " 1208 1213 1214 1218 1226 1229 1233 1234 1245 1249 1256 1257 1261 1277\n",
      " 1279 1285 1286 1290 1299 1305 1320 1323 1326 1333 1337 1340 1343 1345\n",
      " 1348 1356 1363 1368 1370 1380 1388 1389 1395 1396 1400 1408 1415 1420\n",
      " 1433 1438 1439 1447 1453 1469 1474 1477 1483 1491 1504 1507 1508 1509\n",
      " 1513 1514 1515 1521 1525 1526 1530 1535 1540 1542 1543 1562 1563 1566\n",
      " 1567 1578 1580 1584 1588 1589 1596 1597 1604 1606 1610 1611 1617 1618\n",
      " 1632 1633 1634 1635 1652 1659 1660 1668 1673 1679 1681 1685 1695 1707\n",
      " 1708 1711 1713 1723 1731 1734 1736 1737 1742 1747 1757 1760 1762 1771\n",
      " 1772 1774 1776 1783 1789 1790 1799 1801 1804 1805 1806 1807 1813 1814\n",
      " 1815 1817 1818 1819 1822 1823 1836 1838 1840 1848 1853 1860 1863 1864\n",
      " 1866 1868 1883 1884 1886 1901 1904 1905 1911 1932 1933 1936 1939 1944\n",
      " 1950 1951 1953 1954 1955 1959 1971 1973 1977 1994 2004 2018 2019 2020\n",
      " 2032 2035 2036 2041 2050 2052 2055 2056 2057 2059 2060 2067 2077 2085\n",
      " 2089 2104 2109 2110 2112 2114 2116 2125 2129 2130 2140 2142 2143 2150\n",
      " 2155 2158 2162 2165 2167 2170 2172 2179 2185 2190 2200 2203 2204 2207\n",
      " 2221 2237 2242 2244 2247 2252 2260 2262 2263 2266 2278 2280 2285 2286\n",
      " 2293 2296 2297 2300 2301 2305 2317 2323 2324 2327 2340 2343 2354 2365\n",
      " 2374 2375 2379 2387 2396 2397 2398 2404 2415 2418 2424 2427 2432 2436\n",
      " 2437 2438 2442 2443 2445 2447 2450 2462 2466 2479 2497 2503 2509 2511\n",
      " 2513 2518 2521 2524 2535 2538 2551 2568 2577 2584 2611 2613 2614 2629\n",
      " 2633 2634 2648 2650 2652 2654 2657 2663 2668 2684 2690 2692 2693 2694\n",
      " 2702 2703 2715 2716 2723 2735 2747 2749 2754 2773 2777 2783 2786 2800\n",
      " 2801 2812 2822 2824 2825 2830 2832 2834 2842 2845 2846 2851 2853 2860\n",
      " 2869 2871 2879 2883 2888 2896 2901 2910 2915]\n",
      "\n",
      "\n",
      "Train index: [   0    1    2 ... 2912 2913 2915]\n",
      "Test index: [   5    6   11   13   14   15   22   23   27   34   38   49   54   55\n",
      "   58   60   61   69   75   86   87   88   89   92   93   95  103  108\n",
      "  111  112  115  116  120  127  135  137  139  145  146  151  154  155\n",
      "  157  159  161  163  164  170  171  174  189  198  208  216  221  243\n",
      "  249  255  257  271  273  282  291  297  300  306  310  313  316  319\n",
      "  327  331  335  339  340  342  344  346  347  361  366  375  380  382\n",
      "  386  387  391  394  401  408  412  417  419  427  434  451  456  457\n",
      "  461  466  478  479  484  489  492  499  507  511  516  520  524  530\n",
      "  531  533  537  541  542  545  546  563  564  576  579  585  590  611\n",
      "  616  628  629  632  642  647  657  662  686  689  690  694  695  697\n",
      "  699  715  716  719  723  728  730  731  736  739  741  742  743  748\n",
      "  768  770  772  777  778  789  790  798  813  824  827  833  835  847\n",
      "  848  854  857  869  873  876  880  881  891  896  898  900  904  905\n",
      "  916  917  918  921  925  928  947  950  961  967  973  976  978  979\n",
      "  982  986  988  993 1001 1002 1003 1005 1006 1016 1020 1021 1024 1026\n",
      " 1032 1034 1041 1042 1049 1055 1058 1060 1062 1077 1078 1081 1085 1088\n",
      " 1090 1093 1097 1102 1103 1107 1110 1111 1117 1133 1136 1138 1141 1143\n",
      " 1148 1150 1153 1154 1159 1160 1166 1169 1171 1172 1180 1185 1192 1193\n",
      " 1194 1200 1207 1215 1219 1225 1230 1235 1237 1240 1244 1263 1266 1269\n",
      " 1271 1273 1291 1292 1302 1308 1309 1311 1328 1335 1336 1352 1357 1358\n",
      " 1366 1377 1378 1382 1392 1393 1399 1402 1403 1405 1430 1434 1435 1441\n",
      " 1442 1443 1446 1457 1460 1476 1479 1487 1500 1503 1512 1522 1523 1546\n",
      " 1548 1554 1557 1561 1571 1572 1575 1581 1585 1586 1591 1595 1619 1620\n",
      " 1622 1624 1629 1646 1664 1669 1671 1684 1692 1701 1714 1716 1719 1722\n",
      " 1730 1738 1741 1750 1752 1753 1758 1763 1781 1795 1800 1811 1820 1824\n",
      " 1825 1829 1833 1841 1846 1849 1851 1855 1858 1870 1873 1880 1887 1889\n",
      " 1893 1898 1910 1912 1913 1916 1919 1921 1923 1925 1934 1937 1949 1956\n",
      " 1958 1962 1965 1967 1968 1969 1974 1976 1978 1983 1987 1988 1998 2001\n",
      " 2002 2015 2023 2025 2030 2034 2042 2044 2045 2070 2076 2079 2080 2086\n",
      " 2098 2100 2103 2107 2111 2115 2122 2123 2126 2136 2145 2147 2152 2153\n",
      " 2156 2160 2163 2169 2173 2174 2175 2176 2189 2199 2206 2210 2211 2214\n",
      " 2223 2225 2226 2228 2232 2235 2238 2243 2256 2258 2267 2277 2281 2284\n",
      " 2288 2290 2291 2302 2303 2309 2315 2332 2334 2335 2336 2341 2349 2359\n",
      " 2369 2372 2378 2383 2384 2401 2405 2413 2416 2417 2419 2425 2428 2440\n",
      " 2444 2449 2451 2473 2476 2478 2481 2483 2488 2499 2502 2506 2528 2529\n",
      " 2531 2534 2537 2539 2545 2547 2548 2550 2556 2564 2572 2581 2589 2592\n",
      " 2594 2595 2597 2601 2604 2607 2609 2612 2620 2623 2624 2625 2628 2630\n",
      " 2638 2644 2659 2664 2672 2673 2679 2680 2687 2688 2689 2695 2697 2704\n",
      " 2705 2710 2714 2719 2720 2722 2725 2727 2730 2736 2744 2745 2751 2753\n",
      " 2760 2763 2771 2772 2774 2776 2780 2781 2784 2787 2789 2798 2799 2802\n",
      " 2814 2819 2831 2835 2836 2837 2843 2850 2861 2863 2865 2867 2868 2874\n",
      " 2875 2878 2886 2898 2900 2905 2907 2909 2914]\n",
      "\n",
      "\n"
     ]
    }
   ],
   "source": [
    "for train_index, test_index in kfold.split(X_train, y_train):\n",
    "    print(\"Train index:\", train_index)\n",
    "    print(\"Test index:\", test_index)\n",
    "    print()\n",
    "    print()"
   ]
  }
 ],
 "metadata": {
  "kernelspec": {
   "display_name": "erdos_fall_2024",
   "language": "python",
   "name": "python3"
  },
  "language_info": {
   "codemirror_mode": {
    "name": "ipython",
    "version": 3
   },
   "file_extension": ".py",
   "mimetype": "text/x-python",
   "name": "python",
   "nbconvert_exporter": "python",
   "pygments_lexer": "ipython3",
   "version": "3.12.5"
  }
 },
 "nbformat": 4,
 "nbformat_minor": 2
}
